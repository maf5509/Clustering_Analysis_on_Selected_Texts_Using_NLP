{
 "cells": [
  {
   "cell_type": "markdown",
   "metadata": {},
   "source": [
    "# Clustering Analysis on Selected Texts Using NLP"
   ]
  },
  {
   "cell_type": "markdown",
   "metadata": {},
   "source": [
    "The aim of this project is to group a disparate collection of short texts using unsupervised learning techniques. To facilitate this, the texts will first be parsed using Natural Language Processing, commonly referred to its abbreviation NLP. NLP is a field within data science that interprets written or spoken data by characterizing constituent words or phrases. This powerful and increasingly widely used technique will be used to define each individual text using a technique known as vectorization, which will be explained in detail later. The analytical choices and decisions made will be discussed along the way. More formally, the goals of this project can be summarized as follows:\n",
    "-  To use several different clustering methods to group the texts.\n",
    "-  To evaluate and validate, using other techniques, the quality of the clustering obtained."
   ]
  },
  {
   "cell_type": "markdown",
   "metadata": {},
   "source": [
    "## The Corpus"
   ]
  },
  {
   "cell_type": "markdown",
   "metadata": {},
   "source": [
    "The corpus to be studied consists of 105 short stories downloaded from various sources on the internet. Sources include the Gutenberg Project and textfiles.com. Authors range from Jack London to Emile Zola, to Fyodor Dostoevsky, to a number of lesser-known authors. The texts are drawn from the romance, science fiction, detective and occult genres. Texts that cannot be easily identified as being from any of those genres are classified as 'miscellaneous'. In the analysis, each text will be identified by its author and title, and categorized according to its genre and the collection, if applicable, from which it was taken. Publication dates span the period from 1880 to 1992. The full listing of text titles is shown in the 'Data Import and Cleaning' section."
   ]
  },
  {
   "cell_type": "markdown",
   "metadata": {},
   "source": [
    "## Import the Required Packages"
   ]
  },
  {
   "cell_type": "code",
   "execution_count": 1,
   "metadata": {
    "collapsed": true
   },
   "outputs": [],
   "source": [
    "import time\n",
    "import glob\n",
    "import errno\n",
    "import numpy as np\n",
    "import pandas as pd\n",
    "import re\n",
    "from sklearn.feature_extraction.text import TfidfVectorizer\n",
    "from scipy import spatial\n",
    "import matplotlib.pyplot as plt\n",
    "%matplotlib inline\n",
    "import seaborn as sns\n",
    "from sklearn.decomposition import PCA\n",
    "from sklearn import linear_model\n",
    "from sklearn import metrics\n",
    "from sklearn.cluster import KMeans\n",
    "from sklearn.cluster import MeanShift, estimate_bandwidth\n",
    "from sklearn.cluster import SpectralClustering\n",
    "from sklearn.cluster import AffinityPropagation\n",
    "from sklearn.decomposition import TruncatedSVD\n",
    "from sklearn.pipeline import make_pipeline\n",
    "from sklearn.preprocessing import Normalizer"
   ]
  },
  {
   "cell_type": "markdown",
   "metadata": {},
   "source": [
    "## Data Import and Cleaning"
   ]
  },
  {
   "cell_type": "markdown",
   "metadata": {},
   "source": [
    "Being a corpus of selected short stories, rather than a conventional table of data values, the dataset did not contain erroneous or questionable values as such. What it did contain, though, were a number of backslashes from the filepath extensions, unneeded dashes, and trailing and leading spaces. In addition, the entire corpus had to be converted to lower case for consistency. In all, the corpus was considerably easier and faster to clean than a more diverse dataset with multiple different datatypes. One key decision made was to consider only a portion of each text, due to the limited available processor power. As such, texts were limited to the first 6000 characters, which is roughly equivalent to two pages. In addition to ensuring that the CPU could handle the whole corpus, this step served to 'equalize' the corpus. That is to say, it ensured that all texts were roughly the same length (only roughly because a small number of them were shorter than 6000 characters to begin with). Thus any 'class imbalance' resulting from widely disparate text lengths was significantly reduced. "
   ]
  },
  {
   "cell_type": "code",
   "execution_count": 2,
   "metadata": {
    "collapsed": true
   },
   "outputs": [],
   "source": [
    "# Define the path where the files reside\n",
    "path = 'C://Users//fergu//Collections2/*.txt'\n",
    "files = glob.glob(path)\n",
    "# Create lists to hold the data\n",
    "author = []\n",
    "title = []\n",
    "year = []\n",
    "collection = []\n",
    "genre = []\n",
    "text = []\n",
    "\n",
    "# Read in the files one by one. Populate lists containing the title,\n",
    "# author, year, genre and collection of each text. These will be useful\n",
    "# later as an easy reference when working with other tables that contain\n",
    "# only numerical data.\n",
    "\n",
    "for filename in files:       \n",
    "    try:\n",
    "        with open(filename, encoding='Latin-1') as f:\n",
    "            title.append(filename.split('-')[0])\n",
    "            author.append(filename.split('-')[1])\n",
    "            year.append(filename.split('-')[2])\n",
    "            collection.append(filename.split('-')[3])\n",
    "            genre.append(filename.split('-')[4])        \n",
    "            text.append(f.read())       \n",
    "    except IOError as exc:\n",
    "        if exc.errno != errno.EISDIR:\n",
    "            raise"
   ]
  },
  {
   "cell_type": "code",
   "execution_count": 3,
   "metadata": {},
   "outputs": [
    {
     "data": {
      "text/plain": [
       "'C://Users//fergu//Collections2\\\\the eyes of the panther '"
      ]
     },
     "execution_count": 3,
     "metadata": {},
     "output_type": "execute_result"
    }
   ],
   "source": [
    "# Check one of the titles\n",
    "title[64]"
   ]
  },
  {
   "cell_type": "code",
   "execution_count": 4,
   "metadata": {
    "collapsed": true
   },
   "outputs": [],
   "source": [
    "# Remove filepath and file extension characters\n",
    "genre = [ge.split('.')[0] for ge in genre]\n",
    "title = [ti.split('\\\\')[1] for ti in title]"
   ]
  },
  {
   "cell_type": "code",
   "execution_count": 5,
   "metadata": {},
   "outputs": [
    {
     "data": {
      "text/plain": [
       "105"
      ]
     },
     "execution_count": 5,
     "metadata": {},
     "output_type": "execute_result"
    }
   ],
   "source": [
    "# Verify that the dataset has the right no. of texts\n",
    "len(text)"
   ]
  },
  {
   "cell_type": "code",
   "execution_count": 6,
   "metadata": {
    "collapsed": true
   },
   "outputs": [],
   "source": [
    "# Remove any trailing and leading spaces from names\n",
    "title = [item[1:] if item[0] == ' ' else item for item in title]\n",
    "title = [item[:-1] if item[-1] == ' ' else item for item in title]\n",
    "\n",
    "author = [item[1:] if item[0] == ' ' else item for item in author]\n",
    "author = [item[:-1] if item[-1] == ' ' else item for item in author]\n",
    "\n",
    "genre = [item[1:] if item[0] == ' ' else item for item in genre]\n",
    "genre = [item[:-1] if item[-1] == ' ' else item for item in genre]\n",
    "\n",
    "year = [item[1:] if item[0] == ' ' else item for item in year]\n",
    "year = [item[:-1] if item[-1] == ' ' else item for item in year]\n",
    "\n",
    "collection = [item[1:] if item[0] == ' ' else item for item in collection]\n",
    "collection = [item[:-1] if item[-1] == ' ' else item for item in collection]"
   ]
  },
  {
   "cell_type": "code",
   "execution_count": 7,
   "metadata": {},
   "outputs": [
    {
     "data": {
      "text/html": [
       "<div>\n",
       "<style>\n",
       "    .dataframe thead tr:only-child th {\n",
       "        text-align: right;\n",
       "    }\n",
       "\n",
       "    .dataframe thead th {\n",
       "        text-align: left;\n",
       "    }\n",
       "\n",
       "    .dataframe tbody tr th {\n",
       "        vertical-align: top;\n",
       "    }\n",
       "</style>\n",
       "<table border=\"1\" class=\"dataframe\">\n",
       "  <thead>\n",
       "    <tr style=\"text-align: right;\">\n",
       "      <th></th>\n",
       "      <th>0-20</th>\n",
       "      <th>21-41</th>\n",
       "      <th>42-62</th>\n",
       "      <th>63-83</th>\n",
       "      <th>84-104</th>\n",
       "    </tr>\n",
       "  </thead>\n",
       "  <tbody>\n",
       "    <tr>\n",
       "      <th>0</th>\n",
       "      <td>100 west by 53 north</td>\n",
       "      <td>bitter sweet</td>\n",
       "      <td>once upon a mattress</td>\n",
       "      <td>the end of all</td>\n",
       "      <td>the pit and the pendulum</td>\n",
       "    </tr>\n",
       "    <tr>\n",
       "      <th>1</th>\n",
       "      <td>a day's lodging</td>\n",
       "      <td>bobok</td>\n",
       "      <td>painkiller</td>\n",
       "      <td>the eyes of the panther</td>\n",
       "      <td>the portal of the unknown</td>\n",
       "    </tr>\n",
       "    <tr>\n",
       "      <th>2</th>\n",
       "      <td>a ghost</td>\n",
       "      <td>brown wolf</td>\n",
       "      <td>photographing invisible beings</td>\n",
       "      <td>the gift of the magi</td>\n",
       "      <td>the problem with time travel</td>\n",
       "    </tr>\n",
       "    <tr>\n",
       "      <th>3</th>\n",
       "      <td>a lion and a lioness</td>\n",
       "      <td>captain burle</td>\n",
       "      <td>prints of the city</td>\n",
       "      <td>the gold brick</td>\n",
       "      <td>the quicksand</td>\n",
       "    </tr>\n",
       "    <tr>\n",
       "      <th>4</th>\n",
       "      <td>a lost day</td>\n",
       "      <td>desiree's baby</td>\n",
       "      <td>rain dance mechwarrior fan fiction</td>\n",
       "      <td>the heavenly christmas</td>\n",
       "      <td>the reckoning</td>\n",
       "    </tr>\n",
       "    <tr>\n",
       "      <th>5</th>\n",
       "      <td>a novel in nine letters</td>\n",
       "      <td>expiation</td>\n",
       "      <td>shall he marry her</td>\n",
       "      <td>the informer</td>\n",
       "      <td>the repairman</td>\n",
       "    </tr>\n",
       "    <tr>\n",
       "      <th>6</th>\n",
       "      <td>a pair of silk stockings</td>\n",
       "      <td>flint and fire</td>\n",
       "      <td>some remarkable psychic experiences of famous ...</td>\n",
       "      <td>the kiss</td>\n",
       "      <td>the return</td>\n",
       "    </tr>\n",
       "    <tr>\n",
       "      <th>7</th>\n",
       "      <td>a reflection</td>\n",
       "      <td>freya of the seven isles</td>\n",
       "      <td>strange adventures of a million dollars</td>\n",
       "      <td>the lady's maid's bell</td>\n",
       "      <td>the right promethean fire</td>\n",
       "    </tr>\n",
       "    <tr>\n",
       "      <th>8</th>\n",
       "      <td>a respectable woman</td>\n",
       "      <td>gambler's world</td>\n",
       "      <td>the awakening</td>\n",
       "      <td>the land of heart's desire</td>\n",
       "      <td>the riverman</td>\n",
       "    </tr>\n",
       "    <tr>\n",
       "      <th>9</th>\n",
       "      <td>a smile of fortune</td>\n",
       "      <td>gaspar ruiz</td>\n",
       "      <td>the brute</td>\n",
       "      <td>the letter</td>\n",
       "      <td>the second generation</td>\n",
       "    </tr>\n",
       "    <tr>\n",
       "      <th>10</th>\n",
       "      <td>a thing that glistened</td>\n",
       "      <td>ghosts in solid form</td>\n",
       "      <td>the bushwhacker's gratitude</td>\n",
       "      <td>the locket</td>\n",
       "      <td>the secret sharer</td>\n",
       "    </tr>\n",
       "    <tr>\n",
       "      <th>11</th>\n",
       "      <td>a tragedy of high explosives</td>\n",
       "      <td>his mother's son</td>\n",
       "      <td>the cheated juliet</td>\n",
       "      <td>the miller's daughter</td>\n",
       "      <td>the sin eater</td>\n",
       "    </tr>\n",
       "    <tr>\n",
       "      <th>12</th>\n",
       "      <td>a traveler in time</td>\n",
       "      <td>il conde</td>\n",
       "      <td>the citizen</td>\n",
       "      <td>the mission of jane</td>\n",
       "      <td>the story of keesh</td>\n",
       "    </tr>\n",
       "    <tr>\n",
       "      <th>13</th>\n",
       "      <td>a witchs den</td>\n",
       "      <td>israel drake</td>\n",
       "      <td>the clavecin bruges</td>\n",
       "      <td>the mystic krewe</td>\n",
       "      <td>the struggles and triumph of isidro de los mae...</td>\n",
       "    </tr>\n",
       "    <tr>\n",
       "      <th>14</th>\n",
       "      <td>accounting for the cards</td>\n",
       "      <td>joseph a story</td>\n",
       "      <td>the crocodile</td>\n",
       "      <td>the only girl at overlook</td>\n",
       "      <td>the sun dog trail</td>\n",
       "    </tr>\n",
       "    <tr>\n",
       "      <th>15</th>\n",
       "      <td>after dark</td>\n",
       "      <td>ligeia</td>\n",
       "      <td>the death of olivier becaille</td>\n",
       "      <td>the ordeal at mt hope</td>\n",
       "      <td>the supernormal experiences</td>\n",
       "    </tr>\n",
       "    <tr>\n",
       "      <th>16</th>\n",
       "      <td>an anarchist</td>\n",
       "      <td>love of life</td>\n",
       "      <td>the descent of man</td>\n",
       "      <td>the other two</td>\n",
       "      <td>the sylph and the father</td>\n",
       "    </tr>\n",
       "    <tr>\n",
       "      <th>17</th>\n",
       "      <td>an honest thief</td>\n",
       "      <td>ma'ame pelagie</td>\n",
       "      <td>the dilettante</td>\n",
       "      <td>the parable of the vain crow</td>\n",
       "      <td>the tenor</td>\n",
       "    </tr>\n",
       "    <tr>\n",
       "      <th>18</th>\n",
       "      <td>an unpleasant predicament</td>\n",
       "      <td>nana</td>\n",
       "      <td>the dream of a ridiculous man</td>\n",
       "      <td>the passing of priscilla winthorp</td>\n",
       "      <td>the unexpected</td>\n",
       "    </tr>\n",
       "    <tr>\n",
       "      <th>19</th>\n",
       "      <td>another man's wife</td>\n",
       "      <td>nature spirits or elementals</td>\n",
       "      <td>the duel</td>\n",
       "      <td>the peasant marey</td>\n",
       "      <td>the white man's way</td>\n",
       "    </tr>\n",
       "    <tr>\n",
       "      <th>20</th>\n",
       "      <td>beyond the bayou</td>\n",
       "      <td>negore, the coward</td>\n",
       "      <td>the dwindling years</td>\n",
       "      <td>the phantom armies seen in france</td>\n",
       "      <td>when the world was young</td>\n",
       "    </tr>\n",
       "  </tbody>\n",
       "</table>\n",
       "</div>"
      ],
      "text/plain": [
       "                            0-20                         21-41  \\\n",
       "0           100 west by 53 north                  bitter sweet   \n",
       "1                a day's lodging                         bobok   \n",
       "2                        a ghost                    brown wolf   \n",
       "3           a lion and a lioness                 captain burle   \n",
       "4                     a lost day                desiree's baby   \n",
       "5        a novel in nine letters                     expiation   \n",
       "6       a pair of silk stockings                flint and fire   \n",
       "7                   a reflection      freya of the seven isles   \n",
       "8            a respectable woman               gambler's world   \n",
       "9             a smile of fortune                   gaspar ruiz   \n",
       "10        a thing that glistened          ghosts in solid form   \n",
       "11  a tragedy of high explosives              his mother's son   \n",
       "12            a traveler in time                      il conde   \n",
       "13                  a witchs den                  israel drake   \n",
       "14      accounting for the cards                joseph a story   \n",
       "15                    after dark                        ligeia   \n",
       "16                  an anarchist                  love of life   \n",
       "17               an honest thief                ma'ame pelagie   \n",
       "18     an unpleasant predicament                          nana   \n",
       "19            another man's wife  nature spirits or elementals   \n",
       "20              beyond the bayou            negore, the coward   \n",
       "\n",
       "                                                42-62  \\\n",
       "0                                once upon a mattress   \n",
       "1                                          painkiller   \n",
       "2                      photographing invisible beings   \n",
       "3                                  prints of the city   \n",
       "4                  rain dance mechwarrior fan fiction   \n",
       "5                                  shall he marry her   \n",
       "6   some remarkable psychic experiences of famous ...   \n",
       "7             strange adventures of a million dollars   \n",
       "8                                       the awakening   \n",
       "9                                           the brute   \n",
       "10                        the bushwhacker's gratitude   \n",
       "11                                 the cheated juliet   \n",
       "12                                        the citizen   \n",
       "13                                the clavecin bruges   \n",
       "14                                      the crocodile   \n",
       "15                      the death of olivier becaille   \n",
       "16                                 the descent of man   \n",
       "17                                     the dilettante   \n",
       "18                      the dream of a ridiculous man   \n",
       "19                                           the duel   \n",
       "20                                the dwindling years   \n",
       "\n",
       "                                63-83  \\\n",
       "0                      the end of all   \n",
       "1             the eyes of the panther   \n",
       "2                the gift of the magi   \n",
       "3                      the gold brick   \n",
       "4              the heavenly christmas   \n",
       "5                        the informer   \n",
       "6                            the kiss   \n",
       "7              the lady's maid's bell   \n",
       "8          the land of heart's desire   \n",
       "9                          the letter   \n",
       "10                         the locket   \n",
       "11              the miller's daughter   \n",
       "12                the mission of jane   \n",
       "13                   the mystic krewe   \n",
       "14          the only girl at overlook   \n",
       "15              the ordeal at mt hope   \n",
       "16                      the other two   \n",
       "17       the parable of the vain crow   \n",
       "18  the passing of priscilla winthorp   \n",
       "19                  the peasant marey   \n",
       "20  the phantom armies seen in france   \n",
       "\n",
       "                                               84-104  \n",
       "0                            the pit and the pendulum  \n",
       "1                           the portal of the unknown  \n",
       "2                        the problem with time travel  \n",
       "3                                       the quicksand  \n",
       "4                                       the reckoning  \n",
       "5                                       the repairman  \n",
       "6                                          the return  \n",
       "7                           the right promethean fire  \n",
       "8                                        the riverman  \n",
       "9                               the second generation  \n",
       "10                                  the secret sharer  \n",
       "11                                      the sin eater  \n",
       "12                                 the story of keesh  \n",
       "13  the struggles and triumph of isidro de los mae...  \n",
       "14                                  the sun dog trail  \n",
       "15                        the supernormal experiences  \n",
       "16                           the sylph and the father  \n",
       "17                                          the tenor  \n",
       "18                                     the unexpected  \n",
       "19                                the white man's way  \n",
       "20                           when the world was young  "
      ]
     },
     "execution_count": 7,
     "metadata": {},
     "output_type": "execute_result"
    }
   ],
   "source": [
    "# A look at the full listing of 105 titles\n",
    "# Note that titles are zero-indexed, \n",
    "# so title indices run from 0 to 104\n",
    "# To determine the index of a specific text, add its \n",
    "# row number to the first number of its column identifier\n",
    "# e.g. The Only Girl at Overlook: 14 + 63 = 77\n",
    "key = pd.DataFrame({'0-20':title[:21], '21-41':title[21:42], '42-62':title[42:63], '63-83':title[63:84], '84-104':title[84:]})\n",
    "key"
   ]
  },
  {
   "cell_type": "code",
   "execution_count": 8,
   "metadata": {},
   "outputs": [
    {
     "name": "stdout",
     "output_type": "stream",
     "text": [
      "Average no. of characters: 56010.990476190476\n"
     ]
    }
   ],
   "source": [
    "# Determine the mean length of the texts \n",
    "char_lengths = []\n",
    "for story in text:\n",
    "    char_lengths.append(len(story))\n",
    "print('Average no. of characters: {}'.format(np.mean(char_lengths)))"
   ]
  },
  {
   "cell_type": "code",
   "execution_count": 9,
   "metadata": {
    "collapsed": true
   },
   "outputs": [],
   "source": [
    "# Create a dictionary housing all the descriptive info\n",
    "my_dict = {}\n",
    "my_dict['title'] = title\n",
    "my_dict['author'] = author\n",
    "my_dict['year'] = year\n",
    "my_dict['collection'] = collection\n",
    "my_dict['genre'] = genre"
   ]
  },
  {
   "cell_type": "code",
   "execution_count": 10,
   "metadata": {
    "collapsed": true
   },
   "outputs": [],
   "source": [
    "# Reduce each text to the first 6000 characters and add into the dictionary\n",
    "my_dict['text'] = [story[:5999] if len(story) > 6000 else story for story in text]"
   ]
  },
  {
   "cell_type": "code",
   "execution_count": 11,
   "metadata": {},
   "outputs": [
    {
     "data": {
      "text/plain": [
       "5920.4285714285716"
      ]
     },
     "execution_count": 11,
     "metadata": {},
     "output_type": "execute_result"
    }
   ],
   "source": [
    "# Check new mean length - less than 6000 because some\n",
    "# of the texts were already shorter than 6000 characters\n",
    "char_lengths2 = [len(extract) for extract in my_dict['text']]\n",
    "np.mean(char_lengths2)"
   ]
  },
  {
   "cell_type": "code",
   "execution_count": 12,
   "metadata": {
    "collapsed": true
   },
   "outputs": [],
   "source": [
    "# Remove certain unneeded characters and words\n",
    "pattern = \"[\\\\[].*?[\\\\]]\"\n",
    "for i in range(len(my_dict['text'])):\n",
    "    my_dict['text'][i] = ' '.join(my_dict['text'][i].split())\n",
    "    my_dict['text'][i] = my_dict['text'][i].lower()\n",
    "    my_dict['text'][i] = re.sub(r'--',' ',my_dict['text'][i])\n",
    "    my_dict['text'][i] = re.sub(pattern,'',my_dict['text'][i])\n",
    "    my_dict['text'][i] = re.sub(r'Chapter \\d+','',my_dict['text'][i])\n",
    "    my_dict['text'][i] = re.sub(r'CHAPTER \\d+','',my_dict['text'][i])\n",
    "    my_dict['text'][i] = re.sub(r'chapter \\d+','',my_dict['text'][i])"
   ]
  },
  {
   "cell_type": "markdown",
   "metadata": {},
   "source": [
    "## Preliminary Analysis"
   ]
  },
  {
   "cell_type": "code",
   "execution_count": 13,
   "metadata": {
    "collapsed": true
   },
   "outputs": [],
   "source": [
    "# Create a dataframe for easy visual reference\n",
    "df = pd.DataFrame({'title':my_dict['title'], 'author':my_dict['author'], 'year':my_dict['year'],\n",
    "                   'text':my_dict['text'], 'collection': my_dict['collection'], 'genre':my_dict['genre']\n",
    "                  })"
   ]
  },
  {
   "cell_type": "code",
   "execution_count": 14,
   "metadata": {},
   "outputs": [
    {
     "data": {
      "text/html": [
       "<div>\n",
       "<style>\n",
       "    .dataframe thead tr:only-child th {\n",
       "        text-align: right;\n",
       "    }\n",
       "\n",
       "    .dataframe thead th {\n",
       "        text-align: left;\n",
       "    }\n",
       "\n",
       "    .dataframe tbody tr th {\n",
       "        vertical-align: top;\n",
       "    }\n",
       "</style>\n",
       "<table border=\"1\" class=\"dataframe\">\n",
       "  <thead>\n",
       "    <tr style=\"text-align: right;\">\n",
       "      <th></th>\n",
       "      <th>author</th>\n",
       "      <th>collection</th>\n",
       "      <th>genre</th>\n",
       "      <th>text</th>\n",
       "      <th>title</th>\n",
       "      <th>year</th>\n",
       "    </tr>\n",
       "  </thead>\n",
       "  <tbody>\n",
       "    <tr>\n",
       "      <th>0</th>\n",
       "      <td>jim prentice</td>\n",
       "      <td>none</td>\n",
       "      <td>misc</td>\n",
       "      <td>north of 53. a magic phrase. spoken, mumbled o...</td>\n",
       "      <td>100 west by 53 north</td>\n",
       "      <td>1990</td>\n",
       "    </tr>\n",
       "    <tr>\n",
       "      <th>1</th>\n",
       "      <td>jack london</td>\n",
       "      <td>jacklss</td>\n",
       "      <td>misc</td>\n",
       "      <td>it was the gosh-dangdest stampede i ever seen....</td>\n",
       "      <td>a day's lodging</td>\n",
       "      <td>1913</td>\n",
       "    </tr>\n",
       "    <tr>\n",
       "      <th>2</th>\n",
       "      <td>lafcadio hearn</td>\n",
       "      <td>best_psych</td>\n",
       "      <td>occult</td>\n",
       "      <td>perhaps the man who never wanders away from th...</td>\n",
       "      <td>a ghost</td>\n",
       "      <td>1920</td>\n",
       "    </tr>\n",
       "    <tr>\n",
       "      <th>3</th>\n",
       "      <td>Joaquin Miller</td>\n",
       "      <td>11poss</td>\n",
       "      <td>detective</td>\n",
       "      <td>chapter i. i doubt if you will find either pro...</td>\n",
       "      <td>a lion and a lioness</td>\n",
       "      <td>1891</td>\n",
       "    </tr>\n",
       "    <tr>\n",
       "      <th>4</th>\n",
       "      <td>edgar fawcett</td>\n",
       "      <td>11poss</td>\n",
       "      <td>detective</td>\n",
       "      <td>\"my family,\" john dalrymple would say, \"have t...</td>\n",
       "      <td>a lost day</td>\n",
       "      <td>1891</td>\n",
       "    </tr>\n",
       "  </tbody>\n",
       "</table>\n",
       "</div>"
      ],
      "text/plain": [
       "           author  collection      genre  \\\n",
       "0    jim prentice        none       misc   \n",
       "1     jack london     jacklss       misc   \n",
       "2  lafcadio hearn  best_psych     occult   \n",
       "3  Joaquin Miller      11poss  detective   \n",
       "4   edgar fawcett      11poss  detective   \n",
       "\n",
       "                                                text                 title  \\\n",
       "0  north of 53. a magic phrase. spoken, mumbled o...  100 west by 53 north   \n",
       "1  it was the gosh-dangdest stampede i ever seen....       a day's lodging   \n",
       "2  perhaps the man who never wanders away from th...               a ghost   \n",
       "3  chapter i. i doubt if you will find either pro...  a lion and a lioness   \n",
       "4  \"my family,\" john dalrymple would say, \"have t...            a lost day   \n",
       "\n",
       "   year  \n",
       "0  1990  \n",
       "1  1913  \n",
       "2  1920  \n",
       "3  1891  \n",
       "4  1891  "
      ]
     },
     "execution_count": 14,
     "metadata": {},
     "output_type": "execute_result"
    }
   ],
   "source": [
    "# A quick look at the dataframe\n",
    "df.head()"
   ]
  },
  {
   "cell_type": "markdown",
   "metadata": {},
   "source": [
    "### Examining the Corpus Visually"
   ]
  },
  {
   "cell_type": "code",
   "execution_count": 15,
   "metadata": {},
   "outputs": [
    {
     "data": {
      "image/png": "[encoded data removed]",
      "text/plain": [
       "<matplotlib.figure.Figure at 0x251202a0710>"
      ]
     },
     "metadata": {},
     "output_type": "display_data"
    }
   ],
   "source": [
    "# Create three subplots for visual exploration\n",
    "plt.figure(figsize=(16,20))\n",
    "plt.subplot(3,1,1)\n",
    "plt.subplots_adjust(hspace=1.1)\n",
    "sns.countplot(x=df['author'])\n",
    "plt.xticks(rotation=90)\n",
    "plt.title('Count Plot - by Author')\n",
    "plt.subplot(3,1,2)\n",
    "sns.countplot(x=df['genre'])\n",
    "plt.xticks(rotation=90)\n",
    "plt.title('Count Plot - by Genre')\n",
    "plt.subplot(3,1,3)\n",
    "sns.countplot(x=df['collection'])\n",
    "plt.xticks(rotation=90)\n",
    "plt.title('Count Plot - by Collection')\n",
    "plt.show()"
   ]
  },
  {
   "cell_type": "markdown",
   "metadata": {
    "collapsed": true
   },
   "source": [
    "### The TF-IDF Vectorizer\n",
    "In order to analyze and compare the texts, they first have to be vectorized. This entails the creation, for each text, of an n x 1 matrix, where n is the number of words within that text (vectorization can also be done sentence-by-sentence but we will do it in such a way that each full text is represented by a single matrix). Each word in the text is then given a coefficient that will be its representative value in the matrix or vector. How this coefficient is calculated is what distinguishes one vectorization model from another. The Bag-of-Words model, for example, is a simple model that increments the coefficient by one for every time it appears. The TF-IDF (Term Frequency-Inverse Document Frequency) model is more nuanced; it approaches this by assigning a word a higher weighting if it appears several times within a specific text (i.e. it has a high term frequency). On the other hand, that word is penalized, meaning it weighting is reduced, if it also appears frequently in other members of the corpus (hence the inverse document frequency). In calling the TF-IDF vectorizer, a number of parameters are passed. These are shown and briefly commented in the code below.\n",
    "\n",
    "#### Stop-words\n",
    "Stop-words are words within a body of text that act as connectors. Examples of common stop-words are 'and', 'but', 'the', and 'to'. While useful and necessary in written and verbal language, stop-words do not themselves carry a lot of meaning. For that reason, stop-words are usually omitted from NLP analyses. The sci-kit learn TF-IDF method call contains a 'stop_words' parameter as shown."
   ]
  },
  {
   "cell_type": "code",
   "execution_count": 16,
   "metadata": {
    "collapsed": true
   },
   "outputs": [],
   "source": [
    "# Instantiate scikit-learn's tfidf vectorizer \n",
    "vectorizer = TfidfVectorizer(max_df=0.5, # drop words that occur in more than half the texts\n",
    "                             min_df=2, # only use words that appear at least twice\n",
    "                             stop_words='english', \n",
    "                             lowercase=True, # convert everything to lower case (a redundancy since this was done in the data-cleaning section)\n",
    "                             use_idf=True, # we definitely want to use inverse document frequencies in our weighting\n",
    "                             norm=u'l2', # Applies a correction factor so that longer paragraphs and shorter paragraphs get treated equally\n",
    "                             smooth_idf=True # Adds 1 to all document frequencies, as if an extra document existed that used every word once.  Prevents divide-by-zero errors\n",
    "                            )"
   ]
  },
  {
   "cell_type": "code",
   "execution_count": 17,
   "metadata": {},
   "outputs": [
    {
     "name": "stdout",
     "output_type": "stream",
     "text": [
      "Time taken: 0.3 seconds\n"
     ]
    }
   ],
   "source": [
    "# Fit the vectorizer to the dataframe's 'text' column\n",
    "# thereby creating a vector version of the corpus\n",
    "start_time = time.time()\n",
    "text_tfidf = vectorizer.fit_transform(df['text'])\n",
    "interval = time.time() - start_time\n",
    "print('Time taken: {} seconds'.format ('%.1f' % interval))"
   ]
  },
  {
   "cell_type": "code",
   "execution_count": 18,
   "metadata": {
    "collapsed": true
   },
   "outputs": [],
   "source": [
    "# Convert to Compressed Sparse Row (CSR) format\n",
    "text_tfidf_csr = text_tfidf.tocsr()"
   ]
  },
  {
   "cell_type": "markdown",
   "metadata": {},
   "source": [
    "#### An example of a TF-IDF-vectorized text \n",
    "Below we see one of the texts under consideration, followed by its representative TF-IDF vector. Note that the vectorized version is free of stop-words."
   ]
  },
  {
   "cell_type": "code",
   "execution_count": 19,
   "metadata": {},
   "outputs": [
    {
     "name": "stdout",
     "output_type": "stream",
     "text": [
      "Original text: little mrs. sommers one day found herself the unexpected possessor of fifteen dollars. it seemed to her a very large amount of money, and the way in which it stuffed and bulged her worn old porte-monnaie gave her a feeling of importance such as she had not enjoyed for years. the question of investment was one that occupied her greatly. for a day or two she walked about apparently in a dreamy state, but really absorbed in speculation and calculation. she did not wish to act hastily, to do anything she might afterward regret. but it was during the still hours of the night when she lay awake revolving plans in her mind that she seemed to see her way clearly toward a proper and judicious use of the money. a dollar or two should be added to the price usually paid for janie's shoes, which would insure their lasting an appreciable time longer than they usually did. she would buy so and so many yards of percale for new shirt waists for the boys and janie and mag. she had intended to make the old ones do by skilful patching. mag should have another gown. she had seen some beautiful patterns, veritable bargains in the shop windows. and still there would be left enough for new stockings two pairs apiece and what darning that would save for a while! she would get caps for the boys and sailor-hats for the girls. the vision of her little brood looking fresh and dainty and new for once in their lives excited her and made her restless and wakeful with anticipation. the neighbors sometimes talked of certain \"better days\" that little mrs. sommers had known before she had ever thought of being mrs. sommers. she herself indulged in no such morbid retrospection. she had no time no second of time to devote to the past. the needs of the present absorbed her every faculty. a vision of the future like some dim, gaunt monster sometimes appalled her, but luckily to-morrow never comes. mrs. sommers was one who knew the value of bargains; who could stand for hours making her way inch by inch toward the desired object that was selling below cost. she could elbow her way if need be; she had learned to clutch a piece of goods and hold it and stick to it with persistence and determination till her turn came to be served, no matter when it came. but that day she was a little faint and tired. she had swallowed a light luncheon no! when she came to think of it, between getting the children fed and the place righted, and preparing herself for the shopping bout, she had actually forgotten to eat any luncheon at all! she sat herself upon a revolving stool before a counter that was comparatively deserted, trying to gather strength and courage to charge through an eager multitude that was besieging breastworks of shirting and figured lawn. an all-gone limp feeling had come over her and she rested her hand aimlessly upon the counter. she wore no gloves. by degrees she grew aware that her hand had encountered something very soothing, very pleasant to touch. she looked down to see that her hand lay upon a pile of silk stockings. a placard near by announced that they had been reduced in price from two dollars and fifty cents to one dollar and ninety-eight cents; and a young girl who stood behind the counter asked her if she wished to examine their line of silk hosiery. she smiled, just as if she had been asked to inspect a tiara of diamonds with the ultimate view of purchasing it. but she went on feeling the soft, sheeny luxurious things with both hands now, holding them up to see them glisten, and to feel them glide serpent-like through her fingers. two hectic blotches came suddenly into her pale cheeks. she looked up at the girl. \"do you think there are any eights-and-a-half among these?\" there were any number of eights-and-a-half. in fact, there were more of that size than any other. here was a light-blue pair; there were some lavender, some all black and various shades of tan and gray. mrs. sommers selected a black pair and looked at them very long and closely. she pretended to be examining their texture, which the clerk assured her was excellent. \"a dollar and ninety-eight cents,\" she mused aloud. \"well, i'll take this pair.\" she handed the girl a five-dollar bill and waited for her change and for her parcel. what a very small parcel it was! it seemed lost in the depths of her shabby old shopping-bag. mrs. sommers after that did not move in the direction of the bargain counter. she took the elevator, which carried her to an upper floor into the region of the ladies' waiting-rooms. here, in a retired corner, she exchanged her cotton stockings for the new silk ones which she had just bought. she was not going through any acute mental process or reasoning with herself, nor was she striving to explain to her satisfaction the motive of her action. she was not thinking at all. she seemed for the time to be taking a rest from that laborious and fatiguing function and to have abandoned herself to some mechanical impulse that directed her actions and freed her of responsibility. how good was the touch of the raw silk to her flesh! she felt like lying back in the cushioned chair and reveling for a while in the luxury of it. she did for a little while. then she replaced her shoes, rolled the cotton stockings together and thrust them into her bag. after doing this she crossed straight over to the shoe department and took her seat to be fitted. she was fastidious. the clerk could not make her out; he could not reconcile her shoes with her stockings, and she was not too easily pleased. she held back her skirts and turned her feet one way and her head another way as she glanced down at the polished, pointed-tipped boots. her foot and ankle looked very pretty. she could not realize that they belonged to her and were a part of herself. she wanted an excellent and stylish fit, she told the young fellow who served her, and she did not mind the difference of a dollar or two more in the price so long as she got what she desired\n",
      "\n",
      " ************************************************************ \n",
      "\n",
      "Tf_idf vector: {'line': 0.028870921555780485, 'degrees': 0.047443421259280347, 'mind': 0.047392682572814107, 'told': 0.029751414462283691, 'black': 0.051045212900213743, 'flesh': 0.045739282245097934, 'carried': 0.035390121706351078, 'forgotten': 0.036893278846599611, 'really': 0.0306971867194803, 'aware': 0.041675148585254819, 'hand': 0.06555354996294592, 'near': 0.026544118307852752, 'large': 0.029303576047854132, 'shopping': 0.10917057128719253, 'goods': 0.054585285643596264, 'make': 0.044197997175570068, 'pleasant': 0.039543190117978619, 'small': 0.025854107821598086, 'change': 0.034700111220096412, 'foot': 0.036893278846599611, 'turned': 0.022098998587785034, 'usually': 0.083350297170509638, 'seen': 0.023983141788258163, 'night': 0.023983141788258163, 'got': 0.026544118307852752, 'held': 0.032261848003994842, 'cheeks': 0.045739282245097934, 'fact': 0.026194450263920685, 'rest': 0.029751414462283691, 'straight': 0.036893278846599611, 'piece': 0.036893278846599611, 'aloud': 0.045739282245097934, 'added': 0.038597417860782017, 'suddenly': 0.026544118307852752, 'head': 0.021851183320981973, 'looking': 0.026194450263920685, 'half': 0.048553071958692934, 'feet': 0.027654564917383068, 'new': 0.089406885620839552, 'glanced': 0.042891505223652239, 'dim': 0.04056470197572451, 'left': 0.021608088633198779, 'll': 0.028870921555780485, 'waited': 0.039543190117978619, 'took': 0.044197997175570068, 'deserted': 0.042891505223652239, 'light': 0.047392682572814107, 'place': 0.023983141788258163, 'certain': 0.029751414462283691, 'lives': 0.038597417860782017, 'impulse': 0.047443421259280347, 'direction': 0.04056470197572451, 'striving': 0.058256708772721155, 'value': 0.041675148585254819, 'restless': 0.049410705374222839, 'think': 0.047966283576516326, 'ultimate': 0.054585285643596264, 'beautiful': 0.034045501825153909, 'better': 0.0306971867194803, 'things': 0.024576834192910266, 'comes': 0.037716924954278815, 'feel': 0.029303576047854132, 'past': 0.031197724803708211, 'going': 0.022872695178727857, 'young': 0.047392682572814107, 'known': 0.026544118307852752, 'knew': 0.021608088633198779, 'trying': 0.037716924954278815, 'stand': 0.036119582255656785, 'money': 0.06343739715445236, 'felt': 0.022872695178727857, 'explain': 0.04056470197572451, 'save': 0.039543190117978619, 'till': 0.03171869857722618, 'action': 0.042891505223652239, 'strength': 0.041675148585254819, 'gaunt': 0.049410705374222839, 'fit': 0.045739282245097934, 'lay': 0.053088236615705504, 'pretty': 0.033422837591408593, 'mrs': 0.19031219146335709, 'second': 0.034045501825153909, 'number': 0.035390121706351078, 'rooms': 0.04056470197572451, 'announced': 0.049410705374222839, 'shabby': 0.045739282245097934, 'longer': 0.038597417860782017, 'getting': 0.035390121706351078, 'pleased': 0.041675148585254819, 'learned': 0.038597417860782017, 'act': 0.037716924954278815, 'days': 0.023696341286407054, 'asked': 0.045745390357455715, 'gave': 0.025199498426655583, 'unexpected': 0.041675148585254819, 'thinking': 0.036893278846599611, 'excellent': 0.098821410748445679, 'fellow': 0.032261848003994842, 'question': 0.03171869857722618, 'sat': 0.026903637440837992, 'pair': 0.12169410592717354, 'feeling': 0.10410033366028924, 'taking': 0.032261848003994842, 'wanted': 0.029751414462283691, 'turn': 0.031197724803708211, 'worn': 0.036893278846599611, 'apparently': 0.039543190117978619, 'importance': 0.042891505223652239, 'motive': 0.051737508622150555, 'matter': 0.028870921555780485, 'possessor': 0.054585285643596264, 'dollars': 0.085783010447304478, 'stuffed': 0.058256708772721155, 'bulged': 0.058256708772721155, 'enjoyed': 0.049410705374222839, 'investment': 0.058256708772721155, 'occupied': 0.047443421259280347, 'greatly': 0.044236125104849408, 'walked': 0.033422837591408593, 'dreamy': 0.047443421259280347, 'state': 0.034700111220096412, 'absorbed': 0.10347501724430111, 'speculation': 0.058256708772721155, 'calculation': 0.058256708772721155, 'wish': 0.041675148585254819, 'hastily': 0.049410705374222839, 'afterward': 0.044236125104849408, 'regret': 0.047443421259280347, 'hours': 0.075433849908557629, 'awake': 0.051737508622150555, 'plans': 0.054585285643596264, 'clearly': 0.049410705374222839, 'proper': 0.042891505223652239, 'use': 0.036119582255656785, 'dollar': 0.2470535268711142, 'paid': 0.047443421259280347, 'shoes': 0.17477012631816347, 'insure': 0.058256708772721155, 'appreciable': 0.058256708772721155, 'buy': 0.047443421259280347, 'yards': 0.049410705374222839, 'shirt': 0.051737508622150555, 'boys': 0.085783010447304478, 'intended': 0.051737508622150555, 'ones': 0.088472250209698816, 'skilful': 0.058256708772721155, 'gown': 0.044236125104849408, 'patterns': 0.058256708772721155, 'veritable': 0.058256708772721155, 'shop': 0.047443421259280347, 'windows': 0.038597417860782017, 'darning': 0.054585285643596264, 'caps': 0.058256708772721155, 'sailor': 0.058256708772721155, 'hats': 0.047443421259280347, 'girls': 0.045739282245097934, 'vision': 0.08112940395144902, 'brood': 0.058256708772721155, 'fresh': 0.041675148585254819, 'dainty': 0.058256708772721155, 'excited': 0.045739282245097934, 'anticipation': 0.051737508622150555, 'neighbors': 0.044236125104849408, 'talked': 0.038597417860782017, 'morbid': 0.047443421259280347, 'devote': 0.054585285643596264, 'needs': 0.049410705374222839, 'present': 0.031197724803708211, 'faculty': 0.054585285643596264, 'future': 0.045739282245097934, 'monster': 0.054585285643596264, 'luckily': 0.058256708772721155, 'morrow': 0.047443421259280347, 'making': 0.033422837591408593, 'inch': 0.10917057128719253, 'desired': 0.10347501724430111, 'object': 0.047443421259280347, 'selling': 0.058256708772721155, 'cost': 0.045739282245097934, 'elbow': 0.051737508622150555, 'need': 0.037716924954278815, 'clutch': 0.058256708772721155, 'hold': 0.033422837591408593, 'stick': 0.042891505223652239, 'persistence': 0.058256708772721155, 'determination': 0.051737508622150555, 'served': 0.098821410748445679, 'faint': 0.038597417860782017, 'tired': 0.04056470197572451, 'swallowed': 0.045739282245097934, 'children': 0.030215541436977651, 'fed': 0.051737508622150555, 'preparing': 0.051737508622150555, 'bout': 0.058256708772721155, 'actually': 0.036893278846599611, 'eat': 0.042891505223652239, 'stool': 0.054585285643596264, 'counter': 0.23302683509088462, 'gather': 0.051737508622150555, 'courage': 0.042891505223652239, 'charge': 0.047443421259280347, 'eager': 0.054585285643596264, 'multitude': 0.051737508622150555, 'figured': 0.051737508622150555, 'lawn': 0.058256708772721155, 'gone': 0.027273578857158462, 'rested': 0.047443421259280347, 'aimlessly': 0.058256708772721155, 'wore': 0.038597417860782017, 'gloves': 0.058256708772721155, 'grew': 0.037716924954278815, 'encountered': 0.058256708772721155, 'soothing': 0.054585285643596264, 'touch': 0.079086380235957238, 'pile': 0.049410705374222839, 'silk': 0.18295712898039174, 'reduced': 0.051737508622150555, 'cents': 0.16375585693078881, 'ninety': 0.10917057128719253, 'girl': 0.093593174411124622, 'stood': 0.026544118307852752, 'wished': 0.047443421259280347, 'examine': 0.054585285643596264, 'smiled': 0.04056470197572451, 'inspect': 0.054585285643596264, 'diamonds': 0.054585285643596264, 'view': 0.036119582255656785, 'soft': 0.036893278846599611, 'sheeny': 0.058256708772721155, 'luxurious': 0.054585285643596264, 'hands': 0.024576834192910266, 'holding': 0.038597417860782017, 'serpent': 0.058256708772721155, 'fingers': 0.039543190117978619, 'pale': 0.037716924954278815, 'eights': 0.11651341754544231, 'size': 0.047443421259280347, 'blue': 0.031197724803708211, 'various': 0.044236125104849408, 'tan': 0.054585285643596264, 'gray': 0.037716924954278815, 'selected': 0.058256708772721155, 'closely': 0.045739282245097934, 'pretended': 0.054585285643596264, 'examining': 0.058256708772721155, 'texture': 0.054585285643596264, 'clerk': 0.10347501724430111, 'assured': 0.049410705374222839, 'mused': 0.054585285643596264, 'handed': 0.044236125104849408, 'lost': 0.029751414462283691, 'depths': 0.047443421259280347, 'bag': 0.094886842518560693, 'bargain': 0.058256708772721155, 'upper': 0.042891505223652239, 'floor': 0.033422837591408593, 'region': 0.054585285643596264, 'ladies': 0.04056470197572451, 'waiting': 0.035390121706351078, 'retired': 0.045739282245097934, 'corner': 0.04056470197572451, 'exchanged': 0.051737508622150555, 'cotton': 0.10347501724430111, 'bought': 0.047443421259280347, 'mental': 0.04056470197572451, 'process': 0.047443421259280347, 'reasoning': 0.049410705374222839, 'satisfaction': 0.044236125104849408, 'laborious': 0.058256708772721155, 'abandoned': 0.044236125104849408, 'mechanical': 0.051737508622150555, 'directed': 0.054585285643596264, 'actions': 0.049410705374222839, 'responsibility': 0.051737508622150555, 'raw': 0.054585285643596264, 'lying': 0.034700111220096412, 'chair': 0.037716924954278815, 'luxury': 0.058256708772721155, 'replaced': 0.049410705374222839, 'rolled': 0.049410705374222839, 'thrust': 0.04056470197572451, 'doing': 0.036893278846599611, 'crossed': 0.044236125104849408, 'department': 0.051737508622150555, 'seat': 0.047443421259280347, 'fitted': 0.054585285643596264, 'fastidious': 0.058256708772721155, 'easily': 0.038597417860782017, 'skirts': 0.051737508622150555, 'polished': 0.049410705374222839, 'pointed': 0.049410705374222839, 'boots': 0.047443421259280347, 'ankle': 0.054585285643596264, 'realize': 0.049410705374222839, 'belonged': 0.049410705374222839, 'stylish': 0.058256708772721155, 'difference': 0.049410705374222839}\n"
     ]
    }
   ],
   "source": [
    "# Number of extracts\n",
    "n = text_tfidf_csr.shape[0]\n",
    "# A list of dictionaries, one per text\n",
    "tfidf_bytext = [{} for _ in range(0,n)]\n",
    "# List of features\n",
    "terms = vectorizer.get_feature_names()\n",
    "# For each text, list the feature words and their tf-idf scores\n",
    "for i, j in zip(*text_tfidf_csr.nonzero()):\n",
    "    tfidf_bytext[i][terms[j]] = text_tfidf_csr[i, j]\n",
    "\n",
    "print('Original text:', df.iloc[6,3])\n",
    "print('\\n', '*' * 60, '\\n')\n",
    "print('Tf_idf vector:', tfidf_bytext[6])"
   ]
  },
  {
   "cell_type": "markdown",
   "metadata": {},
   "source": [
    "## Analyzing the Vectorized Dataset\n",
    "We begin this section by determining the level of correlation, or similarity, between the vectorized texts using cosine similarity. We first create a similarity table consisting of cosine similarity coefficients between all of the texts contained in the corpus."
   ]
  },
  {
   "cell_type": "code",
   "execution_count": 20,
   "metadata": {
    "collapsed": true
   },
   "outputs": [],
   "source": [
    "# Create an empty similarity table for the texts\n",
    "sim_table = pd.DataFrame(columns = np.arange(105), index = np.arange(105))\n",
    "\n",
    "# Populate the similarity table using cosine similarity\n",
    "# Indices and columns correspond to the original list indices of the 105 texts\n",
    "for i in range(len(sim_table.columns)):\n",
    "    sim_table[i] = [(1 - spatial.distance.cosine(text_tfidf_csr[i].toarray(), text_tfidf_csr[j].toarray()))\n",
    "                     for j in range(0,105)]"
   ]
  },
  {
   "cell_type": "code",
   "execution_count": 21,
   "metadata": {},
   "outputs": [
    {
     "data": {
      "text/html": [
       "<div>\n",
       "<style>\n",
       "    .dataframe thead tr:only-child th {\n",
       "        text-align: right;\n",
       "    }\n",
       "\n",
       "    .dataframe thead th {\n",
       "        text-align: left;\n",
       "    }\n",
       "\n",
       "    .dataframe tbody tr th {\n",
       "        vertical-align: top;\n",
       "    }\n",
       "</style>\n",
       "<table border=\"1\" class=\"dataframe\">\n",
       "  <thead>\n",
       "    <tr style=\"text-align: right;\">\n",
       "      <th></th>\n",
       "      <th>0</th>\n",
       "      <th>1</th>\n",
       "      <th>2</th>\n",
       "      <th>3</th>\n",
       "      <th>4</th>\n",
       "      <th>5</th>\n",
       "      <th>6</th>\n",
       "      <th>7</th>\n",
       "      <th>8</th>\n",
       "      <th>9</th>\n",
       "      <th>...</th>\n",
       "      <th>95</th>\n",
       "      <th>96</th>\n",
       "      <th>97</th>\n",
       "      <th>98</th>\n",
       "      <th>99</th>\n",
       "      <th>100</th>\n",
       "      <th>101</th>\n",
       "      <th>102</th>\n",
       "      <th>103</th>\n",
       "      <th>104</th>\n",
       "    </tr>\n",
       "  </thead>\n",
       "  <tbody>\n",
       "    <tr>\n",
       "      <th>0</th>\n",
       "      <td>1.000000</td>\n",
       "      <td>0.090097</td>\n",
       "      <td>0.056543</td>\n",
       "      <td>0.051436</td>\n",
       "      <td>0.040065</td>\n",
       "      <td>0.010974</td>\n",
       "      <td>0.037537</td>\n",
       "      <td>0.011624</td>\n",
       "      <td>0.041589</td>\n",
       "      <td>0.046840</td>\n",
       "      <td>...</td>\n",
       "      <td>0.033467</td>\n",
       "      <td>0.061785</td>\n",
       "      <td>0.048641</td>\n",
       "      <td>0.036281</td>\n",
       "      <td>0.034581</td>\n",
       "      <td>0.017277</td>\n",
       "      <td>0.029681</td>\n",
       "      <td>0.047155</td>\n",
       "      <td>0.032128</td>\n",
       "      <td>0.054363</td>\n",
       "    </tr>\n",
       "    <tr>\n",
       "      <th>1</th>\n",
       "      <td>0.090097</td>\n",
       "      <td>1.000000</td>\n",
       "      <td>0.034175</td>\n",
       "      <td>0.056049</td>\n",
       "      <td>0.044609</td>\n",
       "      <td>0.035217</td>\n",
       "      <td>0.047963</td>\n",
       "      <td>0.043427</td>\n",
       "      <td>0.070571</td>\n",
       "      <td>0.056070</td>\n",
       "      <td>...</td>\n",
       "      <td>0.041520</td>\n",
       "      <td>0.064290</td>\n",
       "      <td>0.099826</td>\n",
       "      <td>0.084418</td>\n",
       "      <td>0.034678</td>\n",
       "      <td>0.016335</td>\n",
       "      <td>0.035019</td>\n",
       "      <td>0.063741</td>\n",
       "      <td>0.146893</td>\n",
       "      <td>0.099819</td>\n",
       "    </tr>\n",
       "    <tr>\n",
       "      <th>2</th>\n",
       "      <td>0.056543</td>\n",
       "      <td>0.034175</td>\n",
       "      <td>1.000000</td>\n",
       "      <td>0.083692</td>\n",
       "      <td>0.084469</td>\n",
       "      <td>0.055276</td>\n",
       "      <td>0.047095</td>\n",
       "      <td>0.050602</td>\n",
       "      <td>0.081823</td>\n",
       "      <td>0.047379</td>\n",
       "      <td>...</td>\n",
       "      <td>0.069103</td>\n",
       "      <td>0.058496</td>\n",
       "      <td>0.037999</td>\n",
       "      <td>0.046690</td>\n",
       "      <td>0.071708</td>\n",
       "      <td>0.073923</td>\n",
       "      <td>0.063119</td>\n",
       "      <td>0.069488</td>\n",
       "      <td>0.055525</td>\n",
       "      <td>0.028890</td>\n",
       "    </tr>\n",
       "    <tr>\n",
       "      <th>3</th>\n",
       "      <td>0.051436</td>\n",
       "      <td>0.056049</td>\n",
       "      <td>0.083692</td>\n",
       "      <td>1.000000</td>\n",
       "      <td>0.093668</td>\n",
       "      <td>0.068106</td>\n",
       "      <td>0.047073</td>\n",
       "      <td>0.038839</td>\n",
       "      <td>0.070895</td>\n",
       "      <td>0.094885</td>\n",
       "      <td>...</td>\n",
       "      <td>0.088330</td>\n",
       "      <td>0.089227</td>\n",
       "      <td>0.052221</td>\n",
       "      <td>0.042126</td>\n",
       "      <td>0.079899</td>\n",
       "      <td>0.065067</td>\n",
       "      <td>0.031394</td>\n",
       "      <td>0.089410</td>\n",
       "      <td>0.056210</td>\n",
       "      <td>0.066192</td>\n",
       "    </tr>\n",
       "    <tr>\n",
       "      <th>4</th>\n",
       "      <td>0.040065</td>\n",
       "      <td>0.044609</td>\n",
       "      <td>0.084469</td>\n",
       "      <td>0.093668</td>\n",
       "      <td>1.000000</td>\n",
       "      <td>0.113330</td>\n",
       "      <td>0.086754</td>\n",
       "      <td>0.029015</td>\n",
       "      <td>0.107143</td>\n",
       "      <td>0.082655</td>\n",
       "      <td>...</td>\n",
       "      <td>0.076436</td>\n",
       "      <td>0.054275</td>\n",
       "      <td>0.048847</td>\n",
       "      <td>0.040845</td>\n",
       "      <td>0.103270</td>\n",
       "      <td>0.089440</td>\n",
       "      <td>0.080068</td>\n",
       "      <td>0.057443</td>\n",
       "      <td>0.037662</td>\n",
       "      <td>0.030935</td>\n",
       "    </tr>\n",
       "  </tbody>\n",
       "</table>\n",
       "<p>5 rows × 105 columns</p>\n",
       "</div>"
      ],
      "text/plain": [
       "        0         1         2         3         4         5         6    \\\n",
       "0  1.000000  0.090097  0.056543  0.051436  0.040065  0.010974  0.037537   \n",
       "1  0.090097  1.000000  0.034175  0.056049  0.044609  0.035217  0.047963   \n",
       "2  0.056543  0.034175  1.000000  0.083692  0.084469  0.055276  0.047095   \n",
       "3  0.051436  0.056049  0.083692  1.000000  0.093668  0.068106  0.047073   \n",
       "4  0.040065  0.044609  0.084469  0.093668  1.000000  0.113330  0.086754   \n",
       "\n",
       "        7         8         9      ...          95        96        97   \\\n",
       "0  0.011624  0.041589  0.046840    ...     0.033467  0.061785  0.048641   \n",
       "1  0.043427  0.070571  0.056070    ...     0.041520  0.064290  0.099826   \n",
       "2  0.050602  0.081823  0.047379    ...     0.069103  0.058496  0.037999   \n",
       "3  0.038839  0.070895  0.094885    ...     0.088330  0.089227  0.052221   \n",
       "4  0.029015  0.107143  0.082655    ...     0.076436  0.054275  0.048847   \n",
       "\n",
       "        98        99        100       101       102       103       104  \n",
       "0  0.036281  0.034581  0.017277  0.029681  0.047155  0.032128  0.054363  \n",
       "1  0.084418  0.034678  0.016335  0.035019  0.063741  0.146893  0.099819  \n",
       "2  0.046690  0.071708  0.073923  0.063119  0.069488  0.055525  0.028890  \n",
       "3  0.042126  0.079899  0.065067  0.031394  0.089410  0.056210  0.066192  \n",
       "4  0.040845  0.103270  0.089440  0.080068  0.057443  0.037662  0.030935  \n",
       "\n",
       "[5 rows x 105 columns]"
      ]
     },
     "execution_count": 21,
     "metadata": {},
     "output_type": "execute_result"
    }
   ],
   "source": [
    "# A glance at the table\n",
    "sim_table.head()"
   ]
  },
  {
   "cell_type": "code",
   "execution_count": 22,
   "metadata": {},
   "outputs": [
    {
     "name": "stdout",
     "output_type": "stream",
     "text": [
      "vmax: 0.363524104126409\n",
      "vmin: 0.009643932660654442\n"
     ]
    }
   ],
   "source": [
    "# Determine vmax and vmin, the highest and lowest\n",
    "# values in our correlation table\n",
    "col_maxes = [sim_table[i].sort_values(ascending=False).reset_index()[i][1] \n",
    "             for i in range(0, len(sim_table))]\n",
    "v_max = np.max(col_maxes)\n",
    "\n",
    "col_mins = [sim_table[i].sort_values(ascending=True)[0] for i in range(0, len(sim_table))]\n",
    "v_min = np.min(col_mins)\n",
    "\n",
    "print('vmax: {}'.format(v_max))\n",
    "print('vmin: {}'.format(v_min))"
   ]
  },
  {
   "cell_type": "markdown",
   "metadata": {
    "collapsed": true
   },
   "source": [
    "### A Look at cosine Similarity via a Heatmap\n",
    "Below we see the heatmap generated from our cosine similarity table, with the indexed title key below that. Clearly most of the texts have very low correlation with one another. There are, however, a number of text-text relationships where texts correlate better with esch other, having cosine similarity values greater than 0.2. These blocks show up on the plot in greenish hues. "
   ]
  },
  {
   "cell_type": "code",
   "execution_count": 23,
   "metadata": {},
   "outputs": [
    {
     "data": {
      "image/png": "[encoded data removed]",
      "text/plain": [
       "<matplotlib.figure.Figure at 0x25120b95f98>"
      ]
     },
     "metadata": {},
     "output_type": "display_data"
    }
   ],
   "source": [
    "# Show heatmap for the correlation\n",
    "fig = plt.figure(figsize=(12,12))\n",
    "ax = sns.heatmap(sim_table, cmap=\"tab20b\", vmin=0, vmax=1)\n",
    "plt.show()"
   ]
  },
  {
   "cell_type": "code",
   "execution_count": 24,
   "metadata": {},
   "outputs": [
    {
     "data": {
      "text/html": [
       "<div>\n",
       "<style>\n",
       "    .dataframe thead tr:only-child th {\n",
       "        text-align: right;\n",
       "    }\n",
       "\n",
       "    .dataframe thead th {\n",
       "        text-align: left;\n",
       "    }\n",
       "\n",
       "    .dataframe tbody tr th {\n",
       "        vertical-align: top;\n",
       "    }\n",
       "</style>\n",
       "<table border=\"1\" class=\"dataframe\">\n",
       "  <thead>\n",
       "    <tr style=\"text-align: right;\">\n",
       "      <th></th>\n",
       "      <th>0-20</th>\n",
       "      <th>21-41</th>\n",
       "      <th>42-62</th>\n",
       "      <th>63-83</th>\n",
       "      <th>84-104</th>\n",
       "    </tr>\n",
       "  </thead>\n",
       "  <tbody>\n",
       "    <tr>\n",
       "      <th>0</th>\n",
       "      <td>100 west by 53 north</td>\n",
       "      <td>bitter sweet</td>\n",
       "      <td>once upon a mattress</td>\n",
       "      <td>the end of all</td>\n",
       "      <td>the pit and the pendulum</td>\n",
       "    </tr>\n",
       "    <tr>\n",
       "      <th>1</th>\n",
       "      <td>a day's lodging</td>\n",
       "      <td>bobok</td>\n",
       "      <td>painkiller</td>\n",
       "      <td>the eyes of the panther</td>\n",
       "      <td>the portal of the unknown</td>\n",
       "    </tr>\n",
       "    <tr>\n",
       "      <th>2</th>\n",
       "      <td>a ghost</td>\n",
       "      <td>brown wolf</td>\n",
       "      <td>photographing invisible beings</td>\n",
       "      <td>the gift of the magi</td>\n",
       "      <td>the problem with time travel</td>\n",
       "    </tr>\n",
       "    <tr>\n",
       "      <th>3</th>\n",
       "      <td>a lion and a lioness</td>\n",
       "      <td>captain burle</td>\n",
       "      <td>prints of the city</td>\n",
       "      <td>the gold brick</td>\n",
       "      <td>the quicksand</td>\n",
       "    </tr>\n",
       "    <tr>\n",
       "      <th>4</th>\n",
       "      <td>a lost day</td>\n",
       "      <td>desiree's baby</td>\n",
       "      <td>rain dance mechwarrior fan fiction</td>\n",
       "      <td>the heavenly christmas</td>\n",
       "      <td>the reckoning</td>\n",
       "    </tr>\n",
       "    <tr>\n",
       "      <th>5</th>\n",
       "      <td>a novel in nine letters</td>\n",
       "      <td>expiation</td>\n",
       "      <td>shall he marry her</td>\n",
       "      <td>the informer</td>\n",
       "      <td>the repairman</td>\n",
       "    </tr>\n",
       "    <tr>\n",
       "      <th>6</th>\n",
       "      <td>a pair of silk stockings</td>\n",
       "      <td>flint and fire</td>\n",
       "      <td>some remarkable psychic experiences of famous ...</td>\n",
       "      <td>the kiss</td>\n",
       "      <td>the return</td>\n",
       "    </tr>\n",
       "    <tr>\n",
       "      <th>7</th>\n",
       "      <td>a reflection</td>\n",
       "      <td>freya of the seven isles</td>\n",
       "      <td>strange adventures of a million dollars</td>\n",
       "      <td>the lady's maid's bell</td>\n",
       "      <td>the right promethean fire</td>\n",
       "    </tr>\n",
       "    <tr>\n",
       "      <th>8</th>\n",
       "      <td>a respectable woman</td>\n",
       "      <td>gambler's world</td>\n",
       "      <td>the awakening</td>\n",
       "      <td>the land of heart's desire</td>\n",
       "      <td>the riverman</td>\n",
       "    </tr>\n",
       "    <tr>\n",
       "      <th>9</th>\n",
       "      <td>a smile of fortune</td>\n",
       "      <td>gaspar ruiz</td>\n",
       "      <td>the brute</td>\n",
       "      <td>the letter</td>\n",
       "      <td>the second generation</td>\n",
       "    </tr>\n",
       "    <tr>\n",
       "      <th>10</th>\n",
       "      <td>a thing that glistened</td>\n",
       "      <td>ghosts in solid form</td>\n",
       "      <td>the bushwhacker's gratitude</td>\n",
       "      <td>the locket</td>\n",
       "      <td>the secret sharer</td>\n",
       "    </tr>\n",
       "    <tr>\n",
       "      <th>11</th>\n",
       "      <td>a tragedy of high explosives</td>\n",
       "      <td>his mother's son</td>\n",
       "      <td>the cheated juliet</td>\n",
       "      <td>the miller's daughter</td>\n",
       "      <td>the sin eater</td>\n",
       "    </tr>\n",
       "    <tr>\n",
       "      <th>12</th>\n",
       "      <td>a traveler in time</td>\n",
       "      <td>il conde</td>\n",
       "      <td>the citizen</td>\n",
       "      <td>the mission of jane</td>\n",
       "      <td>the story of keesh</td>\n",
       "    </tr>\n",
       "    <tr>\n",
       "      <th>13</th>\n",
       "      <td>a witchs den</td>\n",
       "      <td>israel drake</td>\n",
       "      <td>the clavecin bruges</td>\n",
       "      <td>the mystic krewe</td>\n",
       "      <td>the struggles and triumph of isidro de los mae...</td>\n",
       "    </tr>\n",
       "    <tr>\n",
       "      <th>14</th>\n",
       "      <td>accounting for the cards</td>\n",
       "      <td>joseph a story</td>\n",
       "      <td>the crocodile</td>\n",
       "      <td>the only girl at overlook</td>\n",
       "      <td>the sun dog trail</td>\n",
       "    </tr>\n",
       "    <tr>\n",
       "      <th>15</th>\n",
       "      <td>after dark</td>\n",
       "      <td>ligeia</td>\n",
       "      <td>the death of olivier becaille</td>\n",
       "      <td>the ordeal at mt hope</td>\n",
       "      <td>the supernormal experiences</td>\n",
       "    </tr>\n",
       "    <tr>\n",
       "      <th>16</th>\n",
       "      <td>an anarchist</td>\n",
       "      <td>love of life</td>\n",
       "      <td>the descent of man</td>\n",
       "      <td>the other two</td>\n",
       "      <td>the sylph and the father</td>\n",
       "    </tr>\n",
       "    <tr>\n",
       "      <th>17</th>\n",
       "      <td>an honest thief</td>\n",
       "      <td>ma'ame pelagie</td>\n",
       "      <td>the dilettante</td>\n",
       "      <td>the parable of the vain crow</td>\n",
       "      <td>the tenor</td>\n",
       "    </tr>\n",
       "    <tr>\n",
       "      <th>18</th>\n",
       "      <td>an unpleasant predicament</td>\n",
       "      <td>nana</td>\n",
       "      <td>the dream of a ridiculous man</td>\n",
       "      <td>the passing of priscilla winthorp</td>\n",
       "      <td>the unexpected</td>\n",
       "    </tr>\n",
       "    <tr>\n",
       "      <th>19</th>\n",
       "      <td>another man's wife</td>\n",
       "      <td>nature spirits or elementals</td>\n",
       "      <td>the duel</td>\n",
       "      <td>the peasant marey</td>\n",
       "      <td>the white man's way</td>\n",
       "    </tr>\n",
       "    <tr>\n",
       "      <th>20</th>\n",
       "      <td>beyond the bayou</td>\n",
       "      <td>negore, the coward</td>\n",
       "      <td>the dwindling years</td>\n",
       "      <td>the phantom armies seen in france</td>\n",
       "      <td>when the world was young</td>\n",
       "    </tr>\n",
       "  </tbody>\n",
       "</table>\n",
       "</div>"
      ],
      "text/plain": [
       "                            0-20                         21-41  \\\n",
       "0           100 west by 53 north                  bitter sweet   \n",
       "1                a day's lodging                         bobok   \n",
       "2                        a ghost                    brown wolf   \n",
       "3           a lion and a lioness                 captain burle   \n",
       "4                     a lost day                desiree's baby   \n",
       "5        a novel in nine letters                     expiation   \n",
       "6       a pair of silk stockings                flint and fire   \n",
       "7                   a reflection      freya of the seven isles   \n",
       "8            a respectable woman               gambler's world   \n",
       "9             a smile of fortune                   gaspar ruiz   \n",
       "10        a thing that glistened          ghosts in solid form   \n",
       "11  a tragedy of high explosives              his mother's son   \n",
       "12            a traveler in time                      il conde   \n",
       "13                  a witchs den                  israel drake   \n",
       "14      accounting for the cards                joseph a story   \n",
       "15                    after dark                        ligeia   \n",
       "16                  an anarchist                  love of life   \n",
       "17               an honest thief                ma'ame pelagie   \n",
       "18     an unpleasant predicament                          nana   \n",
       "19            another man's wife  nature spirits or elementals   \n",
       "20              beyond the bayou            negore, the coward   \n",
       "\n",
       "                                                42-62  \\\n",
       "0                                once upon a mattress   \n",
       "1                                          painkiller   \n",
       "2                      photographing invisible beings   \n",
       "3                                  prints of the city   \n",
       "4                  rain dance mechwarrior fan fiction   \n",
       "5                                  shall he marry her   \n",
       "6   some remarkable psychic experiences of famous ...   \n",
       "7             strange adventures of a million dollars   \n",
       "8                                       the awakening   \n",
       "9                                           the brute   \n",
       "10                        the bushwhacker's gratitude   \n",
       "11                                 the cheated juliet   \n",
       "12                                        the citizen   \n",
       "13                                the clavecin bruges   \n",
       "14                                      the crocodile   \n",
       "15                      the death of olivier becaille   \n",
       "16                                 the descent of man   \n",
       "17                                     the dilettante   \n",
       "18                      the dream of a ridiculous man   \n",
       "19                                           the duel   \n",
       "20                                the dwindling years   \n",
       "\n",
       "                                63-83  \\\n",
       "0                      the end of all   \n",
       "1             the eyes of the panther   \n",
       "2                the gift of the magi   \n",
       "3                      the gold brick   \n",
       "4              the heavenly christmas   \n",
       "5                        the informer   \n",
       "6                            the kiss   \n",
       "7              the lady's maid's bell   \n",
       "8          the land of heart's desire   \n",
       "9                          the letter   \n",
       "10                         the locket   \n",
       "11              the miller's daughter   \n",
       "12                the mission of jane   \n",
       "13                   the mystic krewe   \n",
       "14          the only girl at overlook   \n",
       "15              the ordeal at mt hope   \n",
       "16                      the other two   \n",
       "17       the parable of the vain crow   \n",
       "18  the passing of priscilla winthorp   \n",
       "19                  the peasant marey   \n",
       "20  the phantom armies seen in france   \n",
       "\n",
       "                                               84-104  \n",
       "0                            the pit and the pendulum  \n",
       "1                           the portal of the unknown  \n",
       "2                        the problem with time travel  \n",
       "3                                       the quicksand  \n",
       "4                                       the reckoning  \n",
       "5                                       the repairman  \n",
       "6                                          the return  \n",
       "7                           the right promethean fire  \n",
       "8                                        the riverman  \n",
       "9                               the second generation  \n",
       "10                                  the secret sharer  \n",
       "11                                      the sin eater  \n",
       "12                                 the story of keesh  \n",
       "13  the struggles and triumph of isidro de los mae...  \n",
       "14                                  the sun dog trail  \n",
       "15                        the supernormal experiences  \n",
       "16                           the sylph and the father  \n",
       "17                                          the tenor  \n",
       "18                                     the unexpected  \n",
       "19                                the white man's way  \n",
       "20                           when the world was young  "
      ]
     },
     "execution_count": 24,
     "metadata": {},
     "output_type": "execute_result"
    }
   ],
   "source": [
    "# A key for the plot\n",
    "key"
   ]
  },
  {
   "cell_type": "markdown",
   "metadata": {},
   "source": [
    "### A Further Look at cosine Similarity\n",
    "Four more heatmaps were created, this time with texts grouped by author, collection, genre and year of publication. This proved fruitless; no coherent pattern can be discerned from the heatmaps when the data are grouped in this way."
   ]
  },
  {
   "cell_type": "code",
   "execution_count": 25,
   "metadata": {},
   "outputs": [
    {
     "data": {
      "image/png": "[encoded data removed]",
      "text/plain": [
       "<matplotlib.figure.Figure at 0x25120e6bc88>"
      ]
     },
     "metadata": {},
     "output_type": "display_data"
    }
   ],
   "source": [
    "plt.rcParams['figure.figsize'] = (18.0, 18.0)\n",
    "# Create lists to hold the plot data\n",
    "heat_attr = [author, collection, genre, year]\n",
    "heat_names = ['author', 'collection', 'genre', 'year']\n",
    "heat_list = []\n",
    "for i in range(0, 4):\n",
    "    # Compute index:\n",
    "    sim_table_sort = pd.DataFrame(\n",
    "        columns = df.sort_values(by=heat_names[i]).index, \n",
    "        index = df.sort_values(by=heat_names[i]).index)  \n",
    "    # Compute cosine distances as before:\n",
    "    for col in sim_table_sort.columns:\n",
    "        sim_table_sort[col] = [(1 - spatial.distance.cosine(text_tfidf_csr[col].toarray(), text_tfidf_csr[row].toarray()))\n",
    "                              for row in sim_table_sort.index]\n",
    "    heat_list.append(sim_table_sort)\n",
    "        \n",
    "# Plot results on separate subplot axes:    \n",
    "for m in range(len(heat_list)):\n",
    "    plt.subplot(2,2,m+1)\n",
    "    sns.heatmap(heat_list[m], cmap=\"tab20b\", vmin=0, vmax=1)\n",
    "    plt.title('Grouped by {}: cosine Similarity Heatmap'.format(heat_names[m]))\n",
    "plt.show()"
   ]
  },
  {
   "cell_type": "markdown",
   "metadata": {},
   "source": [
    "### Splitting the Data Into Training and Test Sets\n",
    "The corpus will next be split into training and test sets. The first 84 (out of 105) are thus designated as the training set. The holdout set, the remaining 21 texts, will be used for predictive and comparative analysis later."
   ]
  },
  {
   "cell_type": "code",
   "execution_count": 26,
   "metadata": {
    "collapsed": true
   },
   "outputs": [],
   "source": [
    "# Define the reduced similarity table for the training set\n",
    "sim_table_84 = sim_table.iloc[:84][:84]"
   ]
  },
  {
   "cell_type": "code",
   "execution_count": 27,
   "metadata": {
    "collapsed": true
   },
   "outputs": [],
   "source": [
    "# Put all values in the similarity table into a list\n",
    "sim_table_84_values = []\n",
    "for i in range(len(sim_table_84.index)):\n",
    "    for j in range(len(sim_table_84.columns)):\n",
    "        sim_table_84_values.append(sim_table_84.iloc[i,j])"
   ]
  },
  {
   "cell_type": "code",
   "execution_count": 28,
   "metadata": {
    "collapsed": true
   },
   "outputs": [],
   "source": [
    "# Put all similarity values into a single-column dataframe\n",
    "# This is only so that we can look at the statistical data (below)\n",
    "std_table = pd.DataFrame(sim_table_84_values)\n",
    "# Remove the 1.0 values as these denote the similarity of a text with \n",
    "# itself. These are trivial and will bias the stat results\n",
    "std_table = std_table.drop([row for row in std_table.index if std_table.iloc[row,0] > 0.99])"
   ]
  },
  {
   "cell_type": "code",
   "execution_count": 29,
   "metadata": {},
   "outputs": [
    {
     "data": {
      "text/plain": [
       "count    8736.000000\n",
       "mean        0.058815\n",
       "std         0.026534\n",
       "min         0.005831\n",
       "25%         0.040644\n",
       "50%         0.054660\n",
       "75%         0.071858\n",
       "max         0.262329\n",
       "Name: 0, dtype: float64"
      ]
     },
     "execution_count": 29,
     "metadata": {},
     "output_type": "execute_result"
    }
   ],
   "source": [
    "# View stats\n",
    "std_table[0].describe()"
   ]
  },
  {
   "cell_type": "code",
   "execution_count": 30,
   "metadata": {
    "collapsed": true
   },
   "outputs": [],
   "source": [
    "# Define variables for the mean and \n",
    "# standard deviation of the cosine similarity\n",
    "st_d = np.std(std_table[0])\n",
    "mean = np.mean(std_table[0])"
   ]
  },
  {
   "cell_type": "markdown",
   "metadata": {},
   "source": [
    "### Examining the Highest and Lowest Similarity Pairs\n",
    "We next look at the text pairs that show the highest and lowest similarity according to their cosine similarity. To do this, we will define a threshold value above and below the mean, which will serve as the cut-off point for these highest and lowest similarities. The number that gives a reasonable number of values in both cases is 1.5 standard deviations. This leads to 163 highest-similarity pairs (2.3% of approx. 6972 possible text-text pairings) and 79 lowest-similarity pairs (1.1% of all possible text-text pairings). "
   ]
  },
  {
   "cell_type": "code",
   "execution_count": 31,
   "metadata": {},
   "outputs": [
    {
     "data": {
      "text/plain": [
       "0.09861340588107614"
      ]
     },
     "execution_count": 31,
     "metadata": {},
     "output_type": "execute_result"
    }
   ],
   "source": [
    "# Define threshold value, above which cosine  \n",
    "# similarities are to be considered 'high'\n",
    "threshold = mean + 1.5 * st_d\n",
    "threshold"
   ]
  },
  {
   "cell_type": "code",
   "execution_count": 32,
   "metadata": {
    "scrolled": true
   },
   "outputs": [
    {
     "data": {
      "text/html": [
       "<div>\n",
       "<style>\n",
       "    .dataframe thead tr:only-child th {\n",
       "        text-align: right;\n",
       "    }\n",
       "\n",
       "    .dataframe thead th {\n",
       "        text-align: left;\n",
       "    }\n",
       "\n",
       "    .dataframe tbody tr th {\n",
       "        vertical-align: top;\n",
       "    }\n",
       "</style>\n",
       "<table border=\"1\" class=\"dataframe\">\n",
       "  <thead>\n",
       "    <tr style=\"text-align: right;\">\n",
       "      <th></th>\n",
       "      <th>cosine_sim</th>\n",
       "      <th>author_1</th>\n",
       "      <th>author_2</th>\n",
       "      <th>text_1</th>\n",
       "      <th>text_2</th>\n",
       "      <th>year_1</th>\n",
       "      <th>year_2</th>\n",
       "    </tr>\n",
       "  </thead>\n",
       "  <tbody>\n",
       "    <tr>\n",
       "      <th>79</th>\n",
       "      <td>0.260156</td>\n",
       "      <td>kate chopin</td>\n",
       "      <td>kate chopin</td>\n",
       "      <td>beyond the bayou</td>\n",
       "      <td>ma'ame pelagie</td>\n",
       "      <td>1891</td>\n",
       "      <td>1899</td>\n",
       "    </tr>\n",
       "    <tr>\n",
       "      <th>108</th>\n",
       "      <td>0.224760</td>\n",
       "      <td>james f dwyer</td>\n",
       "      <td>fyodor dostoevsky</td>\n",
       "      <td>the citizen</td>\n",
       "      <td>the crocodile</td>\n",
       "      <td>1915</td>\n",
       "      <td>1865</td>\n",
       "    </tr>\n",
       "    <tr>\n",
       "      <th>149</th>\n",
       "      <td>0.212874</td>\n",
       "      <td>edith wharton</td>\n",
       "      <td>kate chopin</td>\n",
       "      <td>the mission of jane</td>\n",
       "      <td>desiree's baby</td>\n",
       "      <td>1902</td>\n",
       "      <td>1894</td>\n",
       "    </tr>\n",
       "    <tr>\n",
       "      <th>48</th>\n",
       "      <td>0.200812</td>\n",
       "      <td>joseph conrad</td>\n",
       "      <td>joseph conrad</td>\n",
       "      <td>a smile of fortune</td>\n",
       "      <td>the secret sharer</td>\n",
       "      <td>1910</td>\n",
       "      <td>1910</td>\n",
       "    </tr>\n",
       "    <tr>\n",
       "      <th>89</th>\n",
       "      <td>0.198427</td>\n",
       "      <td>joseph conrad</td>\n",
       "      <td>jack london</td>\n",
       "      <td>freya of the seven isles</td>\n",
       "      <td>the unexpected</td>\n",
       "      <td>1910</td>\n",
       "      <td>1906</td>\n",
       "    </tr>\n",
       "  </tbody>\n",
       "</table>\n",
       "</div>"
      ],
      "text/plain": [
       "     cosine_sim       author_1           author_2                    text_1  \\\n",
       "79     0.260156    kate chopin        kate chopin          beyond the bayou   \n",
       "108    0.224760  james f dwyer  fyodor dostoevsky               the citizen   \n",
       "149    0.212874  edith wharton        kate chopin       the mission of jane   \n",
       "48     0.200812  joseph conrad      joseph conrad        a smile of fortune   \n",
       "89     0.198427  joseph conrad        jack london  freya of the seven isles   \n",
       "\n",
       "                text_2 year_1 year_2  \n",
       "79      ma'ame pelagie   1891   1899  \n",
       "108      the crocodile   1915   1865  \n",
       "149     desiree's baby   1902   1894  \n",
       "48   the secret sharer   1910   1910  \n",
       "89      the unexpected   1910   1906  "
      ]
     },
     "execution_count": 32,
     "metadata": {},
     "output_type": "execute_result"
    }
   ],
   "source": [
    "# Produce a high-correlation table - a table showing the lowest \n",
    "# cosine-similarity pairs (cosine_sim > 1.5 standard deviations above the mean)\n",
    "\n",
    "row_indices = []\n",
    "col_indices = []\n",
    "\n",
    "for i in range(len(sim_table_84.index)):\n",
    "    for j in range(len(sim_table_84.columns)):\n",
    "        if sim_table_84.iloc[i,j] > threshold and i != j and i not in col_indices: \n",
    "            row_indices.append(i)\n",
    "            col_indices.append(j)\n",
    "# Create a dictionary to hold all the texts, similarity scores, authors and years of publication\n",
    "high_sim_table_84 = pd.DataFrame({'text_1': [title[value] for value in row_indices],\n",
    "                               'text_2': [title[value] for value in col_indices],\n",
    "                               'cosine_sim': \n",
    "                                [sim_table_84.iloc[row_indices[k],col_indices[k]] for k in range(len(row_indices))],\n",
    "                               'author_1': [author[value] for value in row_indices],\n",
    "                               'author_2': [author[value] for value in col_indices],\n",
    "                               'year_1': [year[value] for value in row_indices],\n",
    "                               'year_2': [year[value] for value in col_indices]})\n",
    "# Create list to ensure columns are displayed in the desired order\n",
    "cols = ['cosine_sim', 'author_1', 'author_2', 'text_1', 'text_2', 'year_1', 'year_2']\n",
    "high_sim_table_84 = high_sim_table_84.sort_values(by='cosine_sim', ascending=False)[cols]\n",
    "high_sim_table_84.head()"
   ]
  },
  {
   "cell_type": "code",
   "execution_count": 33,
   "metadata": {},
   "outputs": [
    {
     "data": {
      "text/plain": [
       "0.019016385544853194"
      ]
     },
     "execution_count": 33,
     "metadata": {},
     "output_type": "execute_result"
    }
   ],
   "source": [
    "# Re-define threshold, this time below the mean\n",
    "threshold = mean - 1.5 * st_d\n",
    "threshold"
   ]
  },
  {
   "cell_type": "code",
   "execution_count": 34,
   "metadata": {
    "scrolled": true
   },
   "outputs": [
    {
     "data": {
      "text/html": [
       "<div>\n",
       "<style>\n",
       "    .dataframe thead tr:only-child th {\n",
       "        text-align: right;\n",
       "    }\n",
       "\n",
       "    .dataframe thead th {\n",
       "        text-align: left;\n",
       "    }\n",
       "\n",
       "    .dataframe tbody tr th {\n",
       "        vertical-align: top;\n",
       "    }\n",
       "</style>\n",
       "<table border=\"1\" class=\"dataframe\">\n",
       "  <thead>\n",
       "    <tr style=\"text-align: right;\">\n",
       "      <th></th>\n",
       "      <th>cosine_sim</th>\n",
       "      <th>author_1</th>\n",
       "      <th>author_2</th>\n",
       "      <th>text_1</th>\n",
       "      <th>text_2</th>\n",
       "      <th>year_1</th>\n",
       "      <th>year_2</th>\n",
       "    </tr>\n",
       "  </thead>\n",
       "  <tbody>\n",
       "    <tr>\n",
       "      <th>64</th>\n",
       "      <td>0.006623</td>\n",
       "      <td>edith wharton</td>\n",
       "      <td>kate chopin</td>\n",
       "      <td>the descent of man</td>\n",
       "      <td>a reflection</td>\n",
       "      <td>1904</td>\n",
       "      <td>1894</td>\n",
       "    </tr>\n",
       "    <tr>\n",
       "      <th>68</th>\n",
       "      <td>0.007214</td>\n",
       "      <td>joseph conrad</td>\n",
       "      <td>aesop</td>\n",
       "      <td>the informer</td>\n",
       "      <td>the parable of the vain crow</td>\n",
       "      <td>1906</td>\n",
       "      <td>620</td>\n",
       "    </tr>\n",
       "    <tr>\n",
       "      <th>51</th>\n",
       "      <td>0.008535</td>\n",
       "      <td>nikolai kingsley</td>\n",
       "      <td>aesop</td>\n",
       "      <td>once upon a mattress</td>\n",
       "      <td>the parable of the vain crow</td>\n",
       "      <td>1990</td>\n",
       "      <td>620</td>\n",
       "    </tr>\n",
       "    <tr>\n",
       "      <th>9</th>\n",
       "      <td>0.009644</td>\n",
       "      <td>jim prentice</td>\n",
       "      <td>george madden martin</td>\n",
       "      <td>100 west by 53 north</td>\n",
       "      <td>the right promethean fire</td>\n",
       "      <td>1990</td>\n",
       "      <td>1902</td>\n",
       "    </tr>\n",
       "    <tr>\n",
       "      <th>19</th>\n",
       "      <td>0.010049</td>\n",
       "      <td>joseph conrad</td>\n",
       "      <td>george madden martin</td>\n",
       "      <td>an anarchist</td>\n",
       "      <td>the right promethean fire</td>\n",
       "      <td>1906</td>\n",
       "      <td>1902</td>\n",
       "    </tr>\n",
       "  </tbody>\n",
       "</table>\n",
       "</div>"
      ],
      "text/plain": [
       "    cosine_sim          author_1              author_2                text_1  \\\n",
       "64    0.006623     edith wharton           kate chopin    the descent of man   \n",
       "68    0.007214     joseph conrad                 aesop          the informer   \n",
       "51    0.008535  nikolai kingsley                 aesop  once upon a mattress   \n",
       "9     0.009644      jim prentice  george madden martin  100 west by 53 north   \n",
       "19    0.010049     joseph conrad  george madden martin          an anarchist   \n",
       "\n",
       "                          text_2 year_1 year_2  \n",
       "64                  a reflection   1904   1894  \n",
       "68  the parable of the vain crow   1906    620  \n",
       "51  the parable of the vain crow   1990    620  \n",
       "9      the right promethean fire   1990   1902  \n",
       "19     the right promethean fire   1906   1902  "
      ]
     },
     "execution_count": 34,
     "metadata": {},
     "output_type": "execute_result"
    }
   ],
   "source": [
    "# Produce a low-correlation table - a table showing the lowest \n",
    "# cosine-similarity pairs (cosine_sim < 1.5 standard deviations below the mean)\n",
    "\n",
    "row_indices = []\n",
    "col_indices = []\n",
    "\n",
    "for i in range(len(sim_table_84.index)):\n",
    "    for j in range(len(sim_table_84.columns)):\n",
    "        if sim_table_84.iloc[i,j] < threshold and i != j and i not in col_indices: \n",
    "            row_indices.append(i)\n",
    "            col_indices.append(j)\n",
    "# Create a dictionary to hold all the texts, similarity scores, authors and years of publication\n",
    "low_sim_table_84 = pd.DataFrame({'text_1': [title[value] for value in row_indices],\n",
    "                               'text_2': [title[value] for value in col_indices],\n",
    "                               'cosine_sim': \n",
    "                                [sim_table_84.iloc[row_indices[k],col_indices[k]] for k in range(len(row_indices))],\n",
    "                               'author_1': [author[value] for value in row_indices],\n",
    "                               'author_2': [author[value] for value in col_indices],\n",
    "                               'year_1': [year[value] for value in row_indices],\n",
    "                               'year_2': [year[value] for value in col_indices]})\n",
    "# Create list to ensure columns are displayed in the desired order\n",
    "cols = ['cosine_sim', 'author_1', 'author_2', 'text_1', 'text_2', 'year_1', 'year_2']\n",
    "low_sim_table_84 = low_sim_table_84.sort_values(by='cosine_sim', ascending=True)[cols]\n",
    "low_sim_table_84.head()"
   ]
  },
  {
   "cell_type": "markdown",
   "metadata": {},
   "source": [
    "## Unsupervised Analysis Using Clustering\n",
    "We next attempt to divide the texts into groups using a variety of commonly used clustering methods. This will begin by assuming a 'ground truth', i.e. a known, existing grouping within the data, that the clustering solution tries to reproduce. The results of these ground truth methods, as indicated by the Adjusted Rand Score (ARS) are of mixed quality. The Adjusted Rand Index is a measure of clustering quality that compares the relationship between records within the clustering solution, with their relationship in the ground truth. A score of 0 indicates that the clustering is totally random, whereas 1 would mean that the ground truth had been perfectly replicated. Thus the techniques used here produce fairly unremarkable results, and in practice it is very difficult to achieve an effective clustering solution on texts using known classifications of genre, author or collection."
   ]
  },
  {
   "cell_type": "markdown",
   "metadata": {},
   "source": [
    "### k-Means\n",
    "We first run the k-Means clustering algorithm using genre, year, and author in turn as the guiding attribute. "
   ]
  },
  {
   "cell_type": "markdown",
   "metadata": {},
   "source": [
    "#### By Genre\n",
    "Beginning with genre, we specify 5 as the number of clusters. The score just below zero indicates that the clustering solution is essentially random."
   ]
  },
  {
   "cell_type": "code",
   "execution_count": 35,
   "metadata": {
    "collapsed": true
   },
   "outputs": [],
   "source": [
    "# Create lists containin the unique genre, list and collection\n",
    "genre_list = list(df['genre'].unique())\n",
    "collection_list = list(df['collection'].unique())\n",
    "author_list = list(df['author'].unique())"
   ]
  },
  {
   "cell_type": "code",
   "execution_count": 36,
   "metadata": {
    "collapsed": true
   },
   "outputs": [],
   "source": [
    "# Use these lists to create columns in the dataframe\n",
    "# Now these attributes are represented numerically\n",
    "genre_num = []\n",
    "df['genre_num'] = [genre_list.index(value) for value in df['genre']]\n",
    "df['collection_num'] = [collection_list.index(value) for value in df['collection']]\n",
    "df['author_num'] = [author_list.index(value) for value in df['author']]"
   ]
  },
  {
   "cell_type": "code",
   "execution_count": 37,
   "metadata": {
    "collapsed": true
   },
   "outputs": [],
   "source": [
    "# Create dataframe (of all data) from the tf_idf matrix\n",
    "text_tfidf_df = pd.DataFrame(text_tfidf.toarray())"
   ]
  },
  {
   "cell_type": "code",
   "execution_count": 38,
   "metadata": {
    "collapsed": true
   },
   "outputs": [],
   "source": [
    "# Define the reduced dataframes for the training set\n",
    "df_84 = df[:84]\n",
    "df_21 = df[84:]\n",
    "text_tfidf_df_84 = text_tfidf_df[:84]\n",
    "text_tfidf_df_21 = text_tfidf_df[84:]"
   ]
  },
  {
   "cell_type": "code",
   "execution_count": 39,
   "metadata": {
    "collapsed": true
   },
   "outputs": [],
   "source": [
    "# Calculate predicted genres\n",
    "y_pred = KMeans(n_clusters=5, random_state=4).fit_predict(text_tfidf_df_84)"
   ]
  },
  {
   "cell_type": "code",
   "execution_count": 40,
   "metadata": {},
   "outputs": [
    {
     "data": {
      "text/plain": [
       "-0.0069686960497583519"
      ]
     },
     "execution_count": 40,
     "metadata": {},
     "output_type": "execute_result"
    }
   ],
   "source": [
    "# Compute Adjusted Rand Score (ARI)\n",
    "metrics.adjusted_rand_score(y_pred, df_84['genre_num'])"
   ]
  },
  {
   "cell_type": "markdown",
   "metadata": {},
   "source": [
    "#### By Author (with Two or More Works):\n",
    "To reduce the expected number to clusters to a reasonable number, we restrict this run of the model to authors with two or more works in the corpus. We then use 'author' as the target attribute and the basis for clustering. In this case, the ARI is a somewhat better 21.1%."
   ]
  },
  {
   "cell_type": "code",
   "execution_count": 41,
   "metadata": {
    "collapsed": true
   },
   "outputs": [],
   "source": [
    "# Determine how many works were contributed by each author\n",
    "ind = df_84['author'].value_counts()\n",
    "two_plus_authors = [author for author in df_84['author'].unique() if ind[author] >= 2]\n",
    "#two_plus_authors\n",
    "df_two_plus = df_84[df_84['author'].isin(two_plus_authors)]\n",
    "\n",
    "unique_authors = list(df_two_plus['author'].unique())\n",
    "\n",
    "#df_two_plus['auth_num'] = [unique_authors.index(auth) for auth in df_two_plus['author']]"
   ]
  },
  {
   "cell_type": "code",
   "execution_count": 42,
   "metadata": {},
   "outputs": [
    {
     "data": {
      "text/plain": [
       "6"
      ]
     },
     "execution_count": 42,
     "metadata": {},
     "output_type": "execute_result"
    }
   ],
   "source": [
    "# To determine how many unique authors there are\n",
    "len(unique_authors)"
   ]
  },
  {
   "cell_type": "code",
   "execution_count": 43,
   "metadata": {},
   "outputs": [
    {
     "data": {
      "text/html": [
       "<div>\n",
       "<style>\n",
       "    .dataframe thead tr:only-child th {\n",
       "        text-align: right;\n",
       "    }\n",
       "\n",
       "    .dataframe thead th {\n",
       "        text-align: left;\n",
       "    }\n",
       "\n",
       "    .dataframe tbody tr th {\n",
       "        vertical-align: top;\n",
       "    }\n",
       "</style>\n",
       "<table border=\"1\" class=\"dataframe\">\n",
       "  <thead>\n",
       "    <tr style=\"text-align: right;\">\n",
       "      <th></th>\n",
       "      <th>author</th>\n",
       "      <th>collection</th>\n",
       "      <th>genre</th>\n",
       "      <th>text</th>\n",
       "      <th>title</th>\n",
       "      <th>year</th>\n",
       "      <th>genre_num</th>\n",
       "      <th>collection_num</th>\n",
       "      <th>author_num</th>\n",
       "    </tr>\n",
       "  </thead>\n",
       "  <tbody>\n",
       "    <tr>\n",
       "      <th>1</th>\n",
       "      <td>jack london</td>\n",
       "      <td>jacklss</td>\n",
       "      <td>misc</td>\n",
       "      <td>it was the gosh-dangdest stampede i ever seen....</td>\n",
       "      <td>a day's lodging</td>\n",
       "      <td>1913</td>\n",
       "      <td>0</td>\n",
       "      <td>1</td>\n",
       "      <td>1</td>\n",
       "    </tr>\n",
       "    <tr>\n",
       "      <th>5</th>\n",
       "      <td>fyodor dostoevsky</td>\n",
       "      <td>dostss</td>\n",
       "      <td>misc</td>\n",
       "      <td>i (from pyotr ivanitch to ivan petrovitch) dea...</td>\n",
       "      <td>a novel in nine letters</td>\n",
       "      <td>1847</td>\n",
       "      <td>0</td>\n",
       "      <td>4</td>\n",
       "      <td>5</td>\n",
       "    </tr>\n",
       "    <tr>\n",
       "      <th>6</th>\n",
       "      <td>kate chopin</td>\n",
       "      <td>awak_etal</td>\n",
       "      <td>misc</td>\n",
       "      <td>little mrs. sommers one day found herself the ...</td>\n",
       "      <td>a pair of silk stockings</td>\n",
       "      <td>1897</td>\n",
       "      <td>0</td>\n",
       "      <td>5</td>\n",
       "      <td>6</td>\n",
       "    </tr>\n",
       "    <tr>\n",
       "      <th>7</th>\n",
       "      <td>kate chopin</td>\n",
       "      <td>awak_etal</td>\n",
       "      <td>misc</td>\n",
       "      <td>some people are born with a vital and responsi...</td>\n",
       "      <td>a reflection</td>\n",
       "      <td>1894</td>\n",
       "      <td>0</td>\n",
       "      <td>5</td>\n",
       "      <td>6</td>\n",
       "    </tr>\n",
       "    <tr>\n",
       "      <th>8</th>\n",
       "      <td>kate chopin</td>\n",
       "      <td>awak_etal</td>\n",
       "      <td>misc</td>\n",
       "      <td>mrs. baroda was a little provoked to learn tha...</td>\n",
       "      <td>a respectable woman</td>\n",
       "      <td>1894</td>\n",
       "      <td>0</td>\n",
       "      <td>5</td>\n",
       "      <td>6</td>\n",
       "    </tr>\n",
       "  </tbody>\n",
       "</table>\n",
       "</div>"
      ],
      "text/plain": [
       "              author collection genre  \\\n",
       "1        jack london    jacklss  misc   \n",
       "5  fyodor dostoevsky     dostss  misc   \n",
       "6        kate chopin  awak_etal  misc   \n",
       "7        kate chopin  awak_etal  misc   \n",
       "8        kate chopin  awak_etal  misc   \n",
       "\n",
       "                                                text  \\\n",
       "1  it was the gosh-dangdest stampede i ever seen....   \n",
       "5  i (from pyotr ivanitch to ivan petrovitch) dea...   \n",
       "6  little mrs. sommers one day found herself the ...   \n",
       "7  some people are born with a vital and responsi...   \n",
       "8  mrs. baroda was a little provoked to learn tha...   \n",
       "\n",
       "                      title  year  genre_num  collection_num  author_num  \n",
       "1           a day's lodging  1913          0               1           1  \n",
       "5   a novel in nine letters  1847          0               4           5  \n",
       "6  a pair of silk stockings  1897          0               5           6  \n",
       "7              a reflection  1894          0               5           6  \n",
       "8       a respectable woman  1894          0               5           6  "
      ]
     },
     "execution_count": 43,
     "metadata": {},
     "output_type": "execute_result"
    }
   ],
   "source": [
    "# A reduced dataframe containing works by \n",
    "# authors with two or more works in the corpus\n",
    "df_two_plus.head()"
   ]
  },
  {
   "cell_type": "code",
   "execution_count": 44,
   "metadata": {
    "collapsed": true
   },
   "outputs": [],
   "source": [
    "# Define a vector dataframe containing only those authors\n",
    "# having two or more works\n",
    "two_plus_vector = text_tfidf_df_84.loc[df_two_plus.index, :]\n",
    "\n",
    "# Calculate predicted values.\n",
    "y_pred = KMeans(n_clusters=6, random_state=4).fit_predict(two_plus_vector)"
   ]
  },
  {
   "cell_type": "code",
   "execution_count": 45,
   "metadata": {},
   "outputs": [
    {
     "data": {
      "text/plain": [
       "0.21084786816466439"
      ]
     },
     "execution_count": 45,
     "metadata": {},
     "output_type": "execute_result"
    }
   ],
   "source": [
    "# Compute Adjusted Rand Score (ARI)\n",
    "metrics.adjusted_rand_score(y_pred, df_84.loc[df_two_plus.index, 'author_num'])"
   ]
  },
  {
   "cell_type": "markdown",
   "metadata": {},
   "source": [
    "#### By Collection (with Two or More Works):\n",
    "This time, attempting to cluster by collection, we find a better clustering solution than by genre, but not as good as that computed when clustering by author. In this case the ARI is 10.3%."
   ]
  },
  {
   "cell_type": "code",
   "execution_count": 46,
   "metadata": {},
   "outputs": [
    {
     "name": "stderr",
     "output_type": "stream",
     "text": [
      "C:\\Users\\fergu\\Anaconda3\\lib\\site-packages\\ipykernel_launcher.py:9: SettingWithCopyWarning: \n",
      "A value is trying to be set on a copy of a slice from a DataFrame.\n",
      "Try using .loc[row_indexer,col_indexer] = value instead\n",
      "\n",
      "See the caveats in the documentation: http://pandas.pydata.org/pandas-docs/stable/indexing.html#indexing-view-versus-copy\n",
      "  if __name__ == '__main__':\n"
     ]
    }
   ],
   "source": [
    "ind = df_84['collection'].value_counts()\n",
    "two_plus_collection = [collection for collection in df_84['collection'].unique() \n",
    "                       if ind[collection] >= 3 and collection != 'none']\n",
    "\n",
    "df_two_plus_coll = df_84[df_84['collection'].isin(two_plus_collection)]\n",
    "\n",
    "unique_collections = list(df_two_plus_coll['collection'].unique())\n",
    "\n",
    "df_two_plus_coll['collection_num'] = [unique_collections.index(coll) for coll in df_two_plus_coll['collection']]"
   ]
  },
  {
   "cell_type": "code",
   "execution_count": 47,
   "metadata": {},
   "outputs": [
    {
     "data": {
      "text/plain": [
       "9"
      ]
     },
     "execution_count": 47,
     "metadata": {},
     "output_type": "execute_result"
    }
   ],
   "source": [
    "# To determine how many unique collections there are\n",
    "len(unique_collections)"
   ]
  },
  {
   "cell_type": "code",
   "execution_count": 48,
   "metadata": {
    "collapsed": true
   },
   "outputs": [],
   "source": [
    "two_plus_coll_vector = text_tfidf_df_84.loc[df_two_plus_coll.index, :]\n",
    "\n",
    "# Calculate predicted values.\n",
    "y_pred = KMeans(n_clusters=9, random_state=4).fit_predict(two_plus_coll_vector)"
   ]
  },
  {
   "cell_type": "code",
   "execution_count": 49,
   "metadata": {},
   "outputs": [
    {
     "data": {
      "text/plain": [
       "0.10256410256410256"
      ]
     },
     "execution_count": 49,
     "metadata": {},
     "output_type": "execute_result"
    }
   ],
   "source": [
    "# Compute Adjusted Rand Score (ARI)\n",
    "metrics.adjusted_rand_score(y_pred, df.loc[df_two_plus_coll.index, 'collection_num'])"
   ]
  },
  {
   "cell_type": "markdown",
   "metadata": {
    "collapsed": true
   },
   "source": [
    "### Spectral Clustering\n",
    "Moving to the spectral clustering approach, the results are similarly unimpressive."
   ]
  },
  {
   "cell_type": "code",
   "execution_count": 50,
   "metadata": {
    "collapsed": true
   },
   "outputs": [],
   "source": [
    "n_clusters=5\n",
    "sc = SpectralClustering(n_clusters=n_clusters)\n",
    "predict=sc.fit_predict(text_tfidf_df_84)"
   ]
  },
  {
   "cell_type": "code",
   "execution_count": 51,
   "metadata": {},
   "outputs": [
    {
     "data": {
      "text/plain": [
       "-0.029909579306645138"
      ]
     },
     "execution_count": 51,
     "metadata": {},
     "output_type": "execute_result"
    }
   ],
   "source": [
    "# Compute Adjusted Rand Score (ARI)\n",
    "metrics.adjusted_rand_score(predict, df_84['genre_num'])"
   ]
  },
  {
   "cell_type": "markdown",
   "metadata": {
    "collapsed": true
   },
   "source": [
    "### Simple n-Cluster Solutions\n",
    "Following the limited success in clustering by genre, author or collection, we now attempt a simple solution involving two clusters. We thus go back to the K-Means model, fitting it to the training dataset, then predict clusters for the test data. We can test the stability of our model graphically. We will use Singular Value \n",
    "Decomposition (SVD) to reduce the dimensionality of the dataset to a specified number of components, in this case 200. We can then plot the first two of these components on x-y axes. This will be done for the training and test datasets in order to judge the stability of our clustering solution."
   ]
  },
  {
   "cell_type": "code",
   "execution_count": 52,
   "metadata": {},
   "outputs": [
    {
     "name": "stdout",
     "output_type": "stream",
     "text": [
      "The data as reduced in this way account for 1.0 of the total_variance.\n"
     ]
    }
   ],
   "source": [
    "# Instantiate SVD to reduce dimensions \n",
    "# from over 5000 to just 200\n",
    "svd = TruncatedSVD(200)\n",
    "lsa = make_pipeline(svd, Normalizer(copy=False))\n",
    "text_tfidf_df_svd = lsa.fit_transform(text_tfidf_df)\n",
    "# Compute the total variance explained by this reduced dimensionality\n",
    "variance_explained=svd.explained_variance_ratio_\n",
    "total_variance = variance_explained.sum()\n",
    "print('The data as reduced in this way account for {} of the total_variance.'.format(total_variance))"
   ]
  },
  {
   "cell_type": "markdown",
   "metadata": {},
   "source": [
    "### 2 Clusters\n",
    "Assuming 2 clusters, we see a fairly consistent solution. The cluster boundary is in approximately the same place for the training and test datasets, with very little overlap between clusters in the case of the test data."
   ]
  },
  {
   "cell_type": "code",
   "execution_count": 53,
   "metadata": {
    "collapsed": true
   },
   "outputs": [],
   "source": [
    "# Create a reduced TF-IDF dataframe containing\n",
    "# this limited feature set\n",
    "svd_frame = pd.DataFrame(text_tfidf_df_svd)\n",
    "# Instantiate k-Means\n",
    "km = KMeans(n_clusters=2, random_state=1)\n",
    "# Predict clustering for the training and test sets\n",
    "y_pred = km.fit_predict(text_tfidf_df_84)\n",
    "y_pred_test = km.predict(text_tfidf_df_21)"
   ]
  },
  {
   "cell_type": "code",
   "execution_count": 54,
   "metadata": {},
   "outputs": [
    {
     "data": {
      "image/png": "[encoded data removed]",
      "text/plain": [
       "<matplotlib.figure.Figure at 0x251207a1c18>"
      ]
     },
     "metadata": {},
     "output_type": "display_data"
    }
   ],
   "source": [
    "# Plot the first two SVD components\n",
    "fig = plt.figure(figsize=(15,5))\n",
    "plt.subplot(1,2,1)\n",
    "plt.scatter(svd_frame[0][:84], svd_frame[1][:84], c=y_pred)\n",
    "plt.title('Training Set - 2-Cluster Solution')\n",
    "\n",
    "plt.subplot(1,2,2)\n",
    "plt.scatter(svd_frame[0][84:], svd_frame[1][84:], c=y_pred_test)\n",
    "plt.title('Test Set - 2-Cluster Solution')\n",
    "plt.show()"
   ]
  },
  {
   "cell_type": "markdown",
   "metadata": {},
   "source": [
    "### 3 Clusters\n",
    "With 3 clusters there is considerable overlap among the clusters, although the approximate regions occupied by each cluster are roughly the same in the training and test cases. At this point there is already a clear lack of coherence in our clustering solution."
   ]
  },
  {
   "cell_type": "code",
   "execution_count": 55,
   "metadata": {
    "collapsed": true
   },
   "outputs": [],
   "source": [
    "# Create a reduced TF-IDF dataframe containing\n",
    "# this limited feature set\n",
    "svd_frame = pd.DataFrame(text_tfidf_df_svd)\n",
    "# Instantiate k-Means\n",
    "km = KMeans(n_clusters=3, random_state=1)\n",
    "# Predict clustering for the training and test sets\n",
    "y_pred = km.fit_predict(text_tfidf_df_84)\n",
    "y_pred_test = km.predict(text_tfidf_df_21)"
   ]
  },
  {
   "cell_type": "code",
   "execution_count": 56,
   "metadata": {},
   "outputs": [
    {
     "data": {
      "image/png": "[encoded data removed]",
      "text/plain": [
       "<matplotlib.figure.Figure at 0x25121484710>"
      ]
     },
     "metadata": {},
     "output_type": "display_data"
    }
   ],
   "source": [
    "# Plot the first two SVD components\n",
    "fig = plt.figure(figsize=(15,5))\n",
    "plt.subplot(1,2,1)\n",
    "plt.scatter(svd_frame[0][:84], svd_frame[1][:84], c=y_pred)\n",
    "plt.title('Training Set - 3-Cluster Solution')\n",
    "\n",
    "plt.subplot(1,2,2)\n",
    "plt.scatter(svd_frame[0][84:], svd_frame[1][84:], c=y_pred_test)\n",
    "plt.title('Test Set - 3-Cluster Solution')\n",
    "plt.show()"
   ]
  },
  {
   "cell_type": "markdown",
   "metadata": {},
   "source": [
    "### 4 Clusters\n",
    "There is a similarly pronounced lack of consistency when 4 clusters are attempted. The training dataset in particular contains clusters that are thoroughly intermixed."
   ]
  },
  {
   "cell_type": "code",
   "execution_count": 57,
   "metadata": {
    "collapsed": true
   },
   "outputs": [],
   "source": [
    "# Create a reduced TF-IDF dataframe containing\n",
    "# this limited feature set\n",
    "svd_frame = pd.DataFrame(text_tfidf_df_svd)\n",
    "# Instantiate k-Means\n",
    "km = KMeans(n_clusters=4, random_state=1)\n",
    "# Predict clustering for the training and test sets\n",
    "y_pred = km.fit_predict(text_tfidf_df_84)\n",
    "y_pred_test = km.predict(text_tfidf_df_21)"
   ]
  },
  {
   "cell_type": "code",
   "execution_count": 58,
   "metadata": {},
   "outputs": [
    {
     "data": {
      "image/png": "[encoded data removed]",
      "text/plain": [
       "<matplotlib.figure.Figure at 0x251208a64e0>"
      ]
     },
     "metadata": {},
     "output_type": "display_data"
    }
   ],
   "source": [
    "# Plot the first two SVD components\n",
    "fig = plt.figure(figsize=(15,5))\n",
    "plt.subplot(1,2,1)\n",
    "plt.scatter(svd_frame[0][:84], svd_frame[1][:84], c=y_pred)\n",
    "plt.title('Training Set - 4-Cluster Solution')\n",
    "\n",
    "plt.subplot(1,2,2)\n",
    "plt.scatter(svd_frame[0][84:], svd_frame[1][84:], c=y_pred_test)\n",
    "plt.title('Test Set - 4-Cluster Solution')\n",
    "plt.show()"
   ]
  },
  {
   "cell_type": "markdown",
   "metadata": {},
   "source": [
    "### Methods Having No Ground Truth\n",
    "So far we have approached this problem by trying to fit clusters to a known classification, whether by genre, author, or collection, or by pre-specifying a suspected number of clusters present in the data. This pre-assigned configuration is known as a ground truth, as explained earlier. As we have seen, this approach has resulted in mixed results. We will now use a couple of methods where there is no ground truth, i.e. the user does not specify a suspected number of clusters. The model is therefore free to define whatever clusters it detects. "
   ]
  },
  {
   "cell_type": "markdown",
   "metadata": {},
   "source": [
    "### Mean Shift\n",
    "Numerous attempts were made to obtain coherent results from this method, by varying the input parameters. Whichever combination of values was tried, however, the model was simply unable to observe any distinctions in the data. This resulted in a single estimated cluster every time."
   ]
  },
  {
   "cell_type": "code",
   "execution_count": 59,
   "metadata": {},
   "outputs": [
    {
     "name": "stdout",
     "output_type": "stream",
     "text": [
      "Estimated number of clusters: 1\n",
      "Time taken: 0.0 minutes\n"
     ]
    }
   ],
   "source": [
    "start_time = time.time()\n",
    "# Here we set the bandwidth. This function automatically derives a bandwidth\n",
    "# number based on an inspection of the distances among points in the data.\n",
    "bandwidth = estimate_bandwidth(text_tfidf_df_84, quantile=0.99, n_samples=3)\n",
    "\n",
    "# Declare and fit the model.\n",
    "ms = MeanShift(bandwidth=bandwidth, bin_seeding=True)\n",
    "ms.fit(text_tfidf_df_84)\n",
    "\n",
    "# Extract cluster assignments for each data point.\n",
    "labels = ms.labels_\n",
    "\n",
    "# Coordinates of the cluster centers.\n",
    "cluster_centers = ms.cluster_centers_\n",
    "\n",
    "# Count our clusters.\n",
    "n_clusters_ = len(np.unique(labels))\n",
    "\n",
    "print(\"Estimated number of clusters: {}\".format(n_clusters_))\n",
    "interval = time.time() - start_time\n",
    "print('Time taken: {} minutes'.format ('%.1f' % (interval / 60)))"
   ]
  },
  {
   "cell_type": "markdown",
   "metadata": {},
   "source": [
    "### Affinity Propagation\n",
    "Using Affinity Propagation, the estimated number of clusters is 14. Recall that in this part of the analysis, we have no ground truth, so we allow the model to return the number of clusters it sees. The Affinity Propagation model is commonly known to perceive a larger number of clusters than most others."
   ]
  },
  {
   "cell_type": "code",
   "execution_count": 60,
   "metadata": {},
   "outputs": [
    {
     "name": "stdout",
     "output_type": "stream",
     "text": [
      "Done\n",
      "Estimated number of clusters: 14\n",
      "Time taken: 0.0 minutes\n"
     ]
    }
   ],
   "source": [
    "start_time = time.time()\n",
    "# Instantiate the model and fit it in one statement.\n",
    "af = AffinityPropagation(damping=0.5, convergence_iter=200).fit(text_tfidf_df_84)\n",
    "print('Done')\n",
    "\n",
    "# Pull the number of clusters and cluster assignments for each data point.\n",
    "centers = af.cluster_centers_indices_\n",
    "n_clusters_ = len(centers)\n",
    "labels = af.labels_\n",
    "# Report results\n",
    "print('Estimated number of clusters: {}'.format(n_clusters_))\n",
    "interval = time.time() - start_time\n",
    "print('Time taken: {} minutes'.format ('%.1f' % (interval / 60)))"
   ]
  },
  {
   "cell_type": "markdown",
   "metadata": {},
   "source": [
    "#### Cluster Centers\n",
    "The table below shows the exemplars, or cluster centers, defined by this model. "
   ]
  },
  {
   "cell_type": "code",
   "execution_count": 61,
   "metadata": {},
   "outputs": [
    {
     "data": {
      "text/html": [
       "<div>\n",
       "<style>\n",
       "    .dataframe thead tr:only-child th {\n",
       "        text-align: right;\n",
       "    }\n",
       "\n",
       "    .dataframe thead th {\n",
       "        text-align: left;\n",
       "    }\n",
       "\n",
       "    .dataframe tbody tr th {\n",
       "        vertical-align: top;\n",
       "    }\n",
       "</style>\n",
       "<table border=\"1\" class=\"dataframe\">\n",
       "  <thead>\n",
       "    <tr style=\"text-align: right;\">\n",
       "      <th></th>\n",
       "      <th>title</th>\n",
       "      <th>genre</th>\n",
       "      <th>author</th>\n",
       "      <th>year</th>\n",
       "      <th>collection</th>\n",
       "    </tr>\n",
       "  </thead>\n",
       "  <tbody>\n",
       "    <tr>\n",
       "      <th>0</th>\n",
       "      <td>a lion and a lioness</td>\n",
       "      <td>detective</td>\n",
       "      <td>Joaquin Miller</td>\n",
       "      <td>1891</td>\n",
       "      <td>11poss</td>\n",
       "    </tr>\n",
       "    <tr>\n",
       "      <th>1</th>\n",
       "      <td>a novel in nine letters</td>\n",
       "      <td>misc</td>\n",
       "      <td>fyodor dostoevsky</td>\n",
       "      <td>1847</td>\n",
       "      <td>dostss</td>\n",
       "    </tr>\n",
       "    <tr>\n",
       "      <th>2</th>\n",
       "      <td>a witchs den</td>\n",
       "      <td>occult</td>\n",
       "      <td>helena blavatsky</td>\n",
       "      <td>1920</td>\n",
       "      <td>best_psych</td>\n",
       "    </tr>\n",
       "    <tr>\n",
       "      <th>3</th>\n",
       "      <td>beyond the bayou</td>\n",
       "      <td>misc</td>\n",
       "      <td>kate chopin</td>\n",
       "      <td>1891</td>\n",
       "      <td>awak_etal</td>\n",
       "    </tr>\n",
       "    <tr>\n",
       "      <th>4</th>\n",
       "      <td>desiree's baby</td>\n",
       "      <td>misc</td>\n",
       "      <td>kate chopin</td>\n",
       "      <td>1894</td>\n",
       "      <td>awak_etal</td>\n",
       "    </tr>\n",
       "    <tr>\n",
       "      <th>5</th>\n",
       "      <td>ghosts in solid form</td>\n",
       "      <td>occult</td>\n",
       "      <td>gambier bolton</td>\n",
       "      <td>1919</td>\n",
       "      <td>best_psych</td>\n",
       "    </tr>\n",
       "    <tr>\n",
       "      <th>6</th>\n",
       "      <td>il conde</td>\n",
       "      <td>misc</td>\n",
       "      <td>joseph conrad</td>\n",
       "      <td>1908</td>\n",
       "      <td>set_six</td>\n",
       "    </tr>\n",
       "    <tr>\n",
       "      <th>7</th>\n",
       "      <td>love of life</td>\n",
       "      <td>misc</td>\n",
       "      <td>jack london</td>\n",
       "      <td>1905</td>\n",
       "      <td>jacklss2</td>\n",
       "    </tr>\n",
       "    <tr>\n",
       "      <th>8</th>\n",
       "      <td>prints of the city</td>\n",
       "      <td>detective</td>\n",
       "      <td>g daniel flower</td>\n",
       "      <td>1990</td>\n",
       "      <td>unknown</td>\n",
       "    </tr>\n",
       "    <tr>\n",
       "      <th>9</th>\n",
       "      <td>the brute</td>\n",
       "      <td>misc</td>\n",
       "      <td>joseph conrad</td>\n",
       "      <td>1906</td>\n",
       "      <td>set_six</td>\n",
       "    </tr>\n",
       "    <tr>\n",
       "      <th>10</th>\n",
       "      <td>the heavenly christmas</td>\n",
       "      <td>misc</td>\n",
       "      <td>fyodor dostoevsky</td>\n",
       "      <td>1848</td>\n",
       "      <td>dostss</td>\n",
       "    </tr>\n",
       "    <tr>\n",
       "      <th>11</th>\n",
       "      <td>the lady's maid's bell</td>\n",
       "      <td>occult</td>\n",
       "      <td>edith wharton</td>\n",
       "      <td>1902</td>\n",
       "      <td>descman</td>\n",
       "    </tr>\n",
       "    <tr>\n",
       "      <th>12</th>\n",
       "      <td>the land of heart's desire</td>\n",
       "      <td>misc</td>\n",
       "      <td>myra kelly</td>\n",
       "      <td>1920</td>\n",
       "      <td>am_all</td>\n",
       "    </tr>\n",
       "    <tr>\n",
       "      <th>13</th>\n",
       "      <td>the mystic krewe</td>\n",
       "      <td>detective</td>\n",
       "      <td>maurice thompson</td>\n",
       "      <td>1891</td>\n",
       "      <td>11poss</td>\n",
       "    </tr>\n",
       "  </tbody>\n",
       "</table>\n",
       "</div>"
      ],
      "text/plain": [
       "                         title      genre             author  year  collection\n",
       "0         a lion and a lioness  detective     Joaquin Miller  1891      11poss\n",
       "1      a novel in nine letters       misc  fyodor dostoevsky  1847      dostss\n",
       "2                 a witchs den     occult   helena blavatsky  1920  best_psych\n",
       "3             beyond the bayou       misc        kate chopin  1891   awak_etal\n",
       "4               desiree's baby       misc        kate chopin  1894   awak_etal\n",
       "5         ghosts in solid form     occult     gambier bolton  1919  best_psych\n",
       "6                     il conde       misc      joseph conrad  1908     set_six\n",
       "7                 love of life       misc        jack london  1905    jacklss2\n",
       "8           prints of the city  detective    g daniel flower  1990     unknown\n",
       "9                    the brute       misc      joseph conrad  1906     set_six\n",
       "10      the heavenly christmas       misc  fyodor dostoevsky  1848      dostss\n",
       "11      the lady's maid's bell     occult      edith wharton  1902     descman\n",
       "12  the land of heart's desire       misc         myra kelly  1920      am_all\n",
       "13            the mystic krewe  detective   maurice thompson  1891      11poss"
      ]
     },
     "execution_count": 61,
     "metadata": {},
     "output_type": "execute_result"
    }
   ],
   "source": [
    "# Create dataframe containing cluster centers and their data\n",
    "centers = af.cluster_centers_indices_\n",
    "cluster_centers = pd.DataFrame({'title': [title[value] for value in centers],\n",
    "                                'author': [author[value] for value in centers],\n",
    "                                'genre': [genre[value] for value in centers],\n",
    "                                'year': [year[value] for value in centers],\n",
    "                                'collection': [collection[value] for value in centers]\n",
    "                               })\n",
    "# Set desired column order\n",
    "cols = ['title', 'genre', 'author', 'year', 'collection']\n",
    "cluster_centers[cols]                                   "
   ]
  },
  {
   "cell_type": "markdown",
   "metadata": {},
   "source": [
    "#### Evaluate Using Silhouette Score\n",
    "The silhouette score is a measure of clustering model accuracy. For a given datapoint, the silhouette coefficient denotes the strength of the 'connection' between that datapoint and other datapoints in its cluster, as compared to the strength of its connection to datapoints in other clusters. The mean silhouette coefficient among all points in a dataset (or in a cluster) is its silhouette score. Values range from -1 to +1; a score of +1 would indicate perfectly strong, tightly clustered data, whereas -1 would denote virtually no clustering. Thus the 0.007 value obtained suggests moderately cluster quality, with some degree of overlap between clusters."
   ]
  },
  {
   "cell_type": "code",
   "execution_count": 62,
   "metadata": {},
   "outputs": [
    {
     "data": {
      "text/plain": [
       "0.007159862621783513"
      ]
     },
     "execution_count": 62,
     "metadata": {},
     "output_type": "execute_result"
    }
   ],
   "source": [
    "# Call cluster assignments for sil.score computation\n",
    "labels = af.labels_\n",
    "metrics.silhouette_score(text_tfidf_df_84, labels, metric='euclidean')"
   ]
  },
  {
   "cell_type": "code",
   "execution_count": 63,
   "metadata": {
    "collapsed": true
   },
   "outputs": [],
   "source": [
    "indexed_sil_coeffs = list(metrics.silhouette_samples(text_tfidf_df_84, labels, metric='euclidean'))"
   ]
  },
  {
   "cell_type": "markdown",
   "metadata": {},
   "source": [
    "#### Mean Silhouette Coefficients by Cluster"
   ]
  },
  {
   "cell_type": "code",
   "execution_count": 64,
   "metadata": {},
   "outputs": [
    {
     "data": {
      "text/html": [
       "<div>\n",
       "<style>\n",
       "    .dataframe thead tr:only-child th {\n",
       "        text-align: right;\n",
       "    }\n",
       "\n",
       "    .dataframe thead th {\n",
       "        text-align: left;\n",
       "    }\n",
       "\n",
       "    .dataframe tbody tr th {\n",
       "        vertical-align: top;\n",
       "    }\n",
       "</style>\n",
       "<table border=\"1\" class=\"dataframe\">\n",
       "  <thead>\n",
       "    <tr style=\"text-align: right;\">\n",
       "      <th></th>\n",
       "      <th>avg_silhouette_coeff</th>\n",
       "      <th>cluster_label</th>\n",
       "    </tr>\n",
       "  </thead>\n",
       "  <tbody>\n",
       "    <tr>\n",
       "      <th>0</th>\n",
       "      <td>0.003692</td>\n",
       "      <td>0</td>\n",
       "    </tr>\n",
       "    <tr>\n",
       "      <th>1</th>\n",
       "      <td>0.008674</td>\n",
       "      <td>1</td>\n",
       "    </tr>\n",
       "    <tr>\n",
       "      <th>2</th>\n",
       "      <td>-0.002922</td>\n",
       "      <td>2</td>\n",
       "    </tr>\n",
       "    <tr>\n",
       "      <th>3</th>\n",
       "      <td>0.019791</td>\n",
       "      <td>3</td>\n",
       "    </tr>\n",
       "    <tr>\n",
       "      <th>4</th>\n",
       "      <td>0.006453</td>\n",
       "      <td>4</td>\n",
       "    </tr>\n",
       "    <tr>\n",
       "      <th>5</th>\n",
       "      <td>0.002733</td>\n",
       "      <td>5</td>\n",
       "    </tr>\n",
       "    <tr>\n",
       "      <th>6</th>\n",
       "      <td>0.004642</td>\n",
       "      <td>6</td>\n",
       "    </tr>\n",
       "    <tr>\n",
       "      <th>7</th>\n",
       "      <td>-0.003492</td>\n",
       "      <td>7</td>\n",
       "    </tr>\n",
       "    <tr>\n",
       "      <th>8</th>\n",
       "      <td>0.012407</td>\n",
       "      <td>8</td>\n",
       "    </tr>\n",
       "    <tr>\n",
       "      <th>9</th>\n",
       "      <td>0.104248</td>\n",
       "      <td>9</td>\n",
       "    </tr>\n",
       "    <tr>\n",
       "      <th>10</th>\n",
       "      <td>0.001898</td>\n",
       "      <td>10</td>\n",
       "    </tr>\n",
       "    <tr>\n",
       "      <th>11</th>\n",
       "      <td>0.013946</td>\n",
       "      <td>11</td>\n",
       "    </tr>\n",
       "    <tr>\n",
       "      <th>12</th>\n",
       "      <td>0.019198</td>\n",
       "      <td>12</td>\n",
       "    </tr>\n",
       "    <tr>\n",
       "      <th>13</th>\n",
       "      <td>0.006646</td>\n",
       "      <td>13</td>\n",
       "    </tr>\n",
       "  </tbody>\n",
       "</table>\n",
       "</div>"
      ],
      "text/plain": [
       "    avg_silhouette_coeff  cluster_label\n",
       "0               0.003692              0\n",
       "1               0.008674              1\n",
       "2              -0.002922              2\n",
       "3               0.019791              3\n",
       "4               0.006453              4\n",
       "5               0.002733              5\n",
       "6               0.004642              6\n",
       "7              -0.003492              7\n",
       "8               0.012407              8\n",
       "9               0.104248              9\n",
       "10              0.001898             10\n",
       "11              0.013946             11\n",
       "12              0.019198             12\n",
       "13              0.006646             13"
      ]
     },
     "execution_count": 64,
     "metadata": {},
     "output_type": "execute_result"
    }
   ],
   "source": [
    "# Create empty dictionary\n",
    "dict_sil = {}\n",
    "# Create a key for each unique cluster\n",
    "for value in pd.Series(labels).unique():\n",
    "    dict_sil[value] = []\n",
    "# For each individual text, append its silhouette coefficient \n",
    "# to the cluster to which it belongs\n",
    "for i in range(len(indexed_sil_coeffs)):\n",
    "    dict_sil[labels[i]].append(indexed_sil_coeffs[i])\n",
    "# Compute the mean silhouette coefficient for each cluster\n",
    "for key in dict_sil:\n",
    "    dict_sil[key] = np.mean(dict_sil[key])\n",
    "# Create list of mean sil. coeffs by cluster\n",
    "avg_sil_coeffs = [dict_sil[key] for key in dict_sil]\n",
    "# Display the cluster-specific silhouette scores \n",
    "pd.DataFrame({'cluster_label':np.arange(len(pd.Series(labels).unique())),\n",
    "             'avg_silhouette_coeff': avg_sil_coeffs})                              "
   ]
  },
  {
   "cell_type": "code",
   "execution_count": 65,
   "metadata": {
    "collapsed": true
   },
   "outputs": [],
   "source": [
    "labels = af.labels_\n",
    "\n",
    "# Choose author, collection, genre, text, title, or year\n",
    "# The value of 'categ' below can be changed and the \n",
    "# table below will update to reflect the change made\n",
    "categ = title\n",
    "\n",
    "clusters = {}\n",
    "for value in range(len(centers)):\n",
    "    clusters[value] = []\n",
    "for i in range(0, len(labels)):\n",
    "    clusters[labels[i]].append(categ[i])\n",
    "\n",
    "# Add in dashes for formatting purposes    \n",
    "max = 0\n",
    "for key in clusters:\n",
    "    if len(clusters[key]) > max:\n",
    "        max = len(clusters[key])        \n",
    "for key in clusters:\n",
    "    clusters[key].extend('-' * (max - len(clusters[key])))"
   ]
  },
  {
   "cell_type": "markdown",
   "metadata": {},
   "source": [
    "#### The 14 Clusters"
   ]
  },
  {
   "cell_type": "code",
   "execution_count": 66,
   "metadata": {},
   "outputs": [
    {
     "data": {
      "text/html": [
       "<div>\n",
       "<style>\n",
       "    .dataframe thead tr:only-child th {\n",
       "        text-align: right;\n",
       "    }\n",
       "\n",
       "    .dataframe thead th {\n",
       "        text-align: left;\n",
       "    }\n",
       "\n",
       "    .dataframe tbody tr th {\n",
       "        vertical-align: top;\n",
       "    }\n",
       "</style>\n",
       "<table border=\"1\" class=\"dataframe\">\n",
       "  <thead>\n",
       "    <tr style=\"text-align: right;\">\n",
       "      <th></th>\n",
       "      <th>0</th>\n",
       "      <th>1</th>\n",
       "      <th>2</th>\n",
       "      <th>3</th>\n",
       "      <th>4</th>\n",
       "      <th>5</th>\n",
       "      <th>6</th>\n",
       "      <th>7</th>\n",
       "    </tr>\n",
       "  </thead>\n",
       "  <tbody>\n",
       "    <tr>\n",
       "      <th>0</th>\n",
       "      <td>a lion and a lioness</td>\n",
       "      <td>a novel in nine letters</td>\n",
       "      <td>a reflection</td>\n",
       "      <td>beyond the bayou</td>\n",
       "      <td>desiree's baby</td>\n",
       "      <td>a ghost</td>\n",
       "      <td>a lost day</td>\n",
       "      <td>100 west by 53 north</td>\n",
       "    </tr>\n",
       "    <tr>\n",
       "      <th>1</th>\n",
       "      <td>an anarchist</td>\n",
       "      <td>after dark</td>\n",
       "      <td>a witchs den</td>\n",
       "      <td>ma'ame pelagie</td>\n",
       "      <td>the gift of the magi</td>\n",
       "      <td>ghosts in solid form</td>\n",
       "      <td>il conde</td>\n",
       "      <td>a day's lodging</td>\n",
       "    </tr>\n",
       "    <tr>\n",
       "      <th>2</th>\n",
       "      <td>gaspar ruiz</td>\n",
       "      <td>an unpleasant predicament</td>\n",
       "      <td>brown wolf</td>\n",
       "      <td>-</td>\n",
       "      <td>the mission of jane</td>\n",
       "      <td>nature spirits or elementals</td>\n",
       "      <td>the informer</td>\n",
       "      <td>a thing that glistened</td>\n",
       "    </tr>\n",
       "    <tr>\n",
       "      <th>3</th>\n",
       "      <td>israel drake</td>\n",
       "      <td>bobok</td>\n",
       "      <td>the eyes of the panther</td>\n",
       "      <td>-</td>\n",
       "      <td>-</td>\n",
       "      <td>photographing invisible beings</td>\n",
       "      <td>-</td>\n",
       "      <td>love of life</td>\n",
       "    </tr>\n",
       "    <tr>\n",
       "      <th>4</th>\n",
       "      <td>ligeia</td>\n",
       "      <td>shall he marry her</td>\n",
       "      <td>-</td>\n",
       "      <td>-</td>\n",
       "      <td>-</td>\n",
       "      <td>some remarkable psychic experiences of famous ...</td>\n",
       "      <td>-</td>\n",
       "      <td>rain dance mechwarrior fan fiction</td>\n",
       "    </tr>\n",
       "    <tr>\n",
       "      <th>5</th>\n",
       "      <td>negore, the coward</td>\n",
       "      <td>the citizen</td>\n",
       "      <td>-</td>\n",
       "      <td>-</td>\n",
       "      <td>-</td>\n",
       "      <td>-</td>\n",
       "      <td>-</td>\n",
       "      <td>the miller's daughter</td>\n",
       "    </tr>\n",
       "    <tr>\n",
       "      <th>6</th>\n",
       "      <td>the death of olivier becaille</td>\n",
       "      <td>the crocodile</td>\n",
       "      <td>-</td>\n",
       "      <td>-</td>\n",
       "      <td>-</td>\n",
       "      <td>-</td>\n",
       "      <td>-</td>\n",
       "      <td>-</td>\n",
       "    </tr>\n",
       "    <tr>\n",
       "      <th>7</th>\n",
       "      <td>the peasant marey</td>\n",
       "      <td>the gold brick</td>\n",
       "      <td>-</td>\n",
       "      <td>-</td>\n",
       "      <td>-</td>\n",
       "      <td>-</td>\n",
       "      <td>-</td>\n",
       "      <td>-</td>\n",
       "    </tr>\n",
       "    <tr>\n",
       "      <th>8</th>\n",
       "      <td>the phantom armies seen in france</td>\n",
       "      <td>the letter</td>\n",
       "      <td>-</td>\n",
       "      <td>-</td>\n",
       "      <td>-</td>\n",
       "      <td>-</td>\n",
       "      <td>-</td>\n",
       "      <td>-</td>\n",
       "    </tr>\n",
       "    <tr>\n",
       "      <th>9</th>\n",
       "      <td>-</td>\n",
       "      <td>-</td>\n",
       "      <td>-</td>\n",
       "      <td>-</td>\n",
       "      <td>-</td>\n",
       "      <td>-</td>\n",
       "      <td>-</td>\n",
       "      <td>-</td>\n",
       "    </tr>\n",
       "    <tr>\n",
       "      <th>10</th>\n",
       "      <td>-</td>\n",
       "      <td>-</td>\n",
       "      <td>-</td>\n",
       "      <td>-</td>\n",
       "      <td>-</td>\n",
       "      <td>-</td>\n",
       "      <td>-</td>\n",
       "      <td>-</td>\n",
       "    </tr>\n",
       "    <tr>\n",
       "      <th>11</th>\n",
       "      <td>-</td>\n",
       "      <td>-</td>\n",
       "      <td>-</td>\n",
       "      <td>-</td>\n",
       "      <td>-</td>\n",
       "      <td>-</td>\n",
       "      <td>-</td>\n",
       "      <td>-</td>\n",
       "    </tr>\n",
       "    <tr>\n",
       "      <th>12</th>\n",
       "      <td>-</td>\n",
       "      <td>-</td>\n",
       "      <td>-</td>\n",
       "      <td>-</td>\n",
       "      <td>-</td>\n",
       "      <td>-</td>\n",
       "      <td>-</td>\n",
       "      <td>-</td>\n",
       "    </tr>\n",
       "    <tr>\n",
       "      <th>13</th>\n",
       "      <td>-</td>\n",
       "      <td>-</td>\n",
       "      <td>-</td>\n",
       "      <td>-</td>\n",
       "      <td>-</td>\n",
       "      <td>-</td>\n",
       "      <td>-</td>\n",
       "      <td>-</td>\n",
       "    </tr>\n",
       "    <tr>\n",
       "      <th>14</th>\n",
       "      <td>-</td>\n",
       "      <td>-</td>\n",
       "      <td>-</td>\n",
       "      <td>-</td>\n",
       "      <td>-</td>\n",
       "      <td>-</td>\n",
       "      <td>-</td>\n",
       "      <td>-</td>\n",
       "    </tr>\n",
       "  </tbody>\n",
       "</table>\n",
       "</div>"
      ],
      "text/plain": [
       "                                    0                          1  \\\n",
       "0                a lion and a lioness    a novel in nine letters   \n",
       "1                        an anarchist                 after dark   \n",
       "2                         gaspar ruiz  an unpleasant predicament   \n",
       "3                        israel drake                      bobok   \n",
       "4                              ligeia         shall he marry her   \n",
       "5                  negore, the coward                the citizen   \n",
       "6       the death of olivier becaille              the crocodile   \n",
       "7                   the peasant marey             the gold brick   \n",
       "8   the phantom armies seen in france                 the letter   \n",
       "9                                   -                          -   \n",
       "10                                  -                          -   \n",
       "11                                  -                          -   \n",
       "12                                  -                          -   \n",
       "13                                  -                          -   \n",
       "14                                  -                          -   \n",
       "\n",
       "                          2                 3                     4  \\\n",
       "0              a reflection  beyond the bayou        desiree's baby   \n",
       "1              a witchs den    ma'ame pelagie  the gift of the magi   \n",
       "2                brown wolf                 -   the mission of jane   \n",
       "3   the eyes of the panther                 -                     -   \n",
       "4                         -                 -                     -   \n",
       "5                         -                 -                     -   \n",
       "6                         -                 -                     -   \n",
       "7                         -                 -                     -   \n",
       "8                         -                 -                     -   \n",
       "9                         -                 -                     -   \n",
       "10                        -                 -                     -   \n",
       "11                        -                 -                     -   \n",
       "12                        -                 -                     -   \n",
       "13                        -                 -                     -   \n",
       "14                        -                 -                     -   \n",
       "\n",
       "                                                    5             6  \\\n",
       "0                                             a ghost    a lost day   \n",
       "1                                ghosts in solid form      il conde   \n",
       "2                        nature spirits or elementals  the informer   \n",
       "3                      photographing invisible beings             -   \n",
       "4   some remarkable psychic experiences of famous ...             -   \n",
       "5                                                   -             -   \n",
       "6                                                   -             -   \n",
       "7                                                   -             -   \n",
       "8                                                   -             -   \n",
       "9                                                   -             -   \n",
       "10                                                  -             -   \n",
       "11                                                  -             -   \n",
       "12                                                  -             -   \n",
       "13                                                  -             -   \n",
       "14                                                  -             -   \n",
       "\n",
       "                                     7  \n",
       "0                 100 west by 53 north  \n",
       "1                      a day's lodging  \n",
       "2               a thing that glistened  \n",
       "3                         love of life  \n",
       "4   rain dance mechwarrior fan fiction  \n",
       "5                the miller's daughter  \n",
       "6                                    -  \n",
       "7                                    -  \n",
       "8                                    -  \n",
       "9                                    -  \n",
       "10                                   -  \n",
       "11                                   -  \n",
       "12                                   -  \n",
       "13                                   -  \n",
       "14                                   -  "
      ]
     },
     "execution_count": 66,
     "metadata": {},
     "output_type": "execute_result"
    }
   ],
   "source": [
    "# Produce table showing the data\n",
    "# arranged in their respective clusters\n",
    "df_aff_prop = pd.DataFrame(clusters)\n",
    "df_aff_prop.loc[:,:7]"
   ]
  },
  {
   "cell_type": "code",
   "execution_count": 67,
   "metadata": {},
   "outputs": [
    {
     "data": {
      "text/html": [
       "<div>\n",
       "<style>\n",
       "    .dataframe thead tr:only-child th {\n",
       "        text-align: right;\n",
       "    }\n",
       "\n",
       "    .dataframe thead th {\n",
       "        text-align: left;\n",
       "    }\n",
       "\n",
       "    .dataframe tbody tr th {\n",
       "        vertical-align: top;\n",
       "    }\n",
       "</style>\n",
       "<table border=\"1\" class=\"dataframe\">\n",
       "  <thead>\n",
       "    <tr style=\"text-align: right;\">\n",
       "      <th></th>\n",
       "      <th>8</th>\n",
       "      <th>9</th>\n",
       "      <th>10</th>\n",
       "      <th>11</th>\n",
       "      <th>12</th>\n",
       "      <th>13</th>\n",
       "    </tr>\n",
       "  </thead>\n",
       "  <tbody>\n",
       "    <tr>\n",
       "      <th>0</th>\n",
       "      <td>a tragedy of high explosives</td>\n",
       "      <td>a smile of fortune</td>\n",
       "      <td>captain burle</td>\n",
       "      <td>a pair of silk stockings</td>\n",
       "      <td>flint and fire</td>\n",
       "      <td>freya of the seven isles</td>\n",
       "    </tr>\n",
       "    <tr>\n",
       "      <th>1</th>\n",
       "      <td>accounting for the cards</td>\n",
       "      <td>another man's wife</td>\n",
       "      <td>joseph a story</td>\n",
       "      <td>a respectable woman</td>\n",
       "      <td>the land of heart's desire</td>\n",
       "      <td>strange adventures of a million dollars</td>\n",
       "    </tr>\n",
       "    <tr>\n",
       "      <th>2</th>\n",
       "      <td>prints of the city</td>\n",
       "      <td>bitter sweet</td>\n",
       "      <td>once upon a mattress</td>\n",
       "      <td>a traveler in time</td>\n",
       "      <td>the locket</td>\n",
       "      <td>the end of all</td>\n",
       "    </tr>\n",
       "    <tr>\n",
       "      <th>3</th>\n",
       "      <td>the dwindling years</td>\n",
       "      <td>gambler's world</td>\n",
       "      <td>the bushwhacker's gratitude</td>\n",
       "      <td>an honest thief</td>\n",
       "      <td>the ordeal at mt hope</td>\n",
       "      <td>the mystic krewe</td>\n",
       "    </tr>\n",
       "    <tr>\n",
       "      <th>4</th>\n",
       "      <td>-</td>\n",
       "      <td>his mother's son</td>\n",
       "      <td>the clavecin bruges</td>\n",
       "      <td>expiation</td>\n",
       "      <td>-</td>\n",
       "      <td>-</td>\n",
       "    </tr>\n",
       "    <tr>\n",
       "      <th>5</th>\n",
       "      <td>-</td>\n",
       "      <td>the brute</td>\n",
       "      <td>the dream of a ridiculous man</td>\n",
       "      <td>nana</td>\n",
       "      <td>-</td>\n",
       "      <td>-</td>\n",
       "    </tr>\n",
       "    <tr>\n",
       "      <th>6</th>\n",
       "      <td>-</td>\n",
       "      <td>the kiss</td>\n",
       "      <td>the heavenly christmas</td>\n",
       "      <td>painkiller</td>\n",
       "      <td>-</td>\n",
       "      <td>-</td>\n",
       "    </tr>\n",
       "    <tr>\n",
       "      <th>7</th>\n",
       "      <td>-</td>\n",
       "      <td>the only girl at overlook</td>\n",
       "      <td>-</td>\n",
       "      <td>the awakening</td>\n",
       "      <td>-</td>\n",
       "      <td>-</td>\n",
       "    </tr>\n",
       "    <tr>\n",
       "      <th>8</th>\n",
       "      <td>-</td>\n",
       "      <td>the parable of the vain crow</td>\n",
       "      <td>-</td>\n",
       "      <td>the cheated juliet</td>\n",
       "      <td>-</td>\n",
       "      <td>-</td>\n",
       "    </tr>\n",
       "    <tr>\n",
       "      <th>9</th>\n",
       "      <td>-</td>\n",
       "      <td>-</td>\n",
       "      <td>-</td>\n",
       "      <td>the descent of man</td>\n",
       "      <td>-</td>\n",
       "      <td>-</td>\n",
       "    </tr>\n",
       "    <tr>\n",
       "      <th>10</th>\n",
       "      <td>-</td>\n",
       "      <td>-</td>\n",
       "      <td>-</td>\n",
       "      <td>the dilettante</td>\n",
       "      <td>-</td>\n",
       "      <td>-</td>\n",
       "    </tr>\n",
       "    <tr>\n",
       "      <th>11</th>\n",
       "      <td>-</td>\n",
       "      <td>-</td>\n",
       "      <td>-</td>\n",
       "      <td>the duel</td>\n",
       "      <td>-</td>\n",
       "      <td>-</td>\n",
       "    </tr>\n",
       "    <tr>\n",
       "      <th>12</th>\n",
       "      <td>-</td>\n",
       "      <td>-</td>\n",
       "      <td>-</td>\n",
       "      <td>the lady's maid's bell</td>\n",
       "      <td>-</td>\n",
       "      <td>-</td>\n",
       "    </tr>\n",
       "    <tr>\n",
       "      <th>13</th>\n",
       "      <td>-</td>\n",
       "      <td>-</td>\n",
       "      <td>-</td>\n",
       "      <td>the other two</td>\n",
       "      <td>-</td>\n",
       "      <td>-</td>\n",
       "    </tr>\n",
       "    <tr>\n",
       "      <th>14</th>\n",
       "      <td>-</td>\n",
       "      <td>-</td>\n",
       "      <td>-</td>\n",
       "      <td>the passing of priscilla winthorp</td>\n",
       "      <td>-</td>\n",
       "      <td>-</td>\n",
       "    </tr>\n",
       "  </tbody>\n",
       "</table>\n",
       "</div>"
      ],
      "text/plain": [
       "                              8                             9   \\\n",
       "0   a tragedy of high explosives            a smile of fortune   \n",
       "1       accounting for the cards            another man's wife   \n",
       "2             prints of the city                  bitter sweet   \n",
       "3            the dwindling years               gambler's world   \n",
       "4                              -              his mother's son   \n",
       "5                              -                     the brute   \n",
       "6                              -                      the kiss   \n",
       "7                              -     the only girl at overlook   \n",
       "8                              -  the parable of the vain crow   \n",
       "9                              -                             -   \n",
       "10                             -                             -   \n",
       "11                             -                             -   \n",
       "12                             -                             -   \n",
       "13                             -                             -   \n",
       "14                             -                             -   \n",
       "\n",
       "                               10                                 11  \\\n",
       "0                   captain burle           a pair of silk stockings   \n",
       "1                  joseph a story                a respectable woman   \n",
       "2            once upon a mattress                 a traveler in time   \n",
       "3     the bushwhacker's gratitude                    an honest thief   \n",
       "4             the clavecin bruges                          expiation   \n",
       "5   the dream of a ridiculous man                               nana   \n",
       "6          the heavenly christmas                         painkiller   \n",
       "7                               -                      the awakening   \n",
       "8                               -                 the cheated juliet   \n",
       "9                               -                 the descent of man   \n",
       "10                              -                     the dilettante   \n",
       "11                              -                           the duel   \n",
       "12                              -             the lady's maid's bell   \n",
       "13                              -                      the other two   \n",
       "14                              -  the passing of priscilla winthorp   \n",
       "\n",
       "                            12                                       13  \n",
       "0               flint and fire                 freya of the seven isles  \n",
       "1   the land of heart's desire  strange adventures of a million dollars  \n",
       "2                   the locket                           the end of all  \n",
       "3        the ordeal at mt hope                         the mystic krewe  \n",
       "4                            -                                        -  \n",
       "5                            -                                        -  \n",
       "6                            -                                        -  \n",
       "7                            -                                        -  \n",
       "8                            -                                        -  \n",
       "9                            -                                        -  \n",
       "10                           -                                        -  \n",
       "11                           -                                        -  \n",
       "12                           -                                        -  \n",
       "13                           -                                        -  \n",
       "14                           -                                        -  "
      ]
     },
     "execution_count": 67,
     "metadata": {},
     "output_type": "execute_result"
    }
   ],
   "source": [
    "df_aff_prop.loc[:,8:]"
   ]
  },
  {
   "cell_type": "markdown",
   "metadata": {},
   "source": [
    "#### Further Validation of the Clustering Solution\n",
    "\n",
    "We see below that some 26% of the pairs in the High Similarity table (i.e. the table of pairs whose cosine similarity is more than 1 standard deviation above the mean) occur in the same cluster. On the other hand, only 2 % of the pairs (i.e. two pairs: The Parable of the Vain Crow, from 620 AD, paired wih Gambler's World, a sci-fi story from 1969, and also with The Kiss, an 1894 romance) in the Low Similarity table occur in the same cluster. This provides a satisfying validation of the clustering arrangement computed by the Affinity Propagation model."
   ]
  },
  {
   "cell_type": "code",
   "execution_count": 68,
   "metadata": {},
   "outputs": [
    {
     "data": {
      "text/plain": [
       "0.26380368098159507"
      ]
     },
     "execution_count": 68,
     "metadata": {},
     "output_type": "execute_result"
    }
   ],
   "source": [
    "# Define a counter and increment it by one for every\n",
    "# text-text pair in the high cosine similarity table \n",
    "# that both also occur in the same cluster\n",
    "counter = 0\n",
    "for row in high_sim_table_84.index:\n",
    "    text_1 = high_sim_table_84.loc[row, 'text_1']\n",
    "    text_2 = high_sim_table_84.loc[row, 'text_2']   \n",
    "    for column in df_aff_prop.columns:\n",
    "        if (text_1 in list(df_aff_prop.loc[:,column])) & (text_2 in list(df_aff_prop.loc[:,column])):            \n",
    "            counter += 1\n",
    "# Display proportion of these pairs that are in the same cluster\n",
    "counter / len(high_sim_table_84)"
   ]
  },
  {
   "cell_type": "code",
   "execution_count": 69,
   "metadata": {},
   "outputs": [
    {
     "name": "stdout",
     "output_type": "stream",
     "text": [
      "\n",
      " gambler's world ** the parable of the vain crow\n",
      "\n",
      " the kiss ** the parable of the vain crow\n"
     ]
    },
    {
     "data": {
      "text/plain": [
       "0.02531645569620253"
      ]
     },
     "execution_count": 69,
     "metadata": {},
     "output_type": "execute_result"
    }
   ],
   "source": [
    "# Define a counter and increment it by one for every\n",
    "# text-text pair in the low cosine similarity table \n",
    "# that both also occur in the same cluster\n",
    "counter = 0\n",
    "for row in low_sim_table_84.index:\n",
    "    text_1 = low_sim_table_84.loc[row, 'text_1']\n",
    "    text_2 = low_sim_table_84.loc[row, 'text_2']   \n",
    "    for column in df_aff_prop.columns:\n",
    "        if (text_1 in list(df_aff_prop.loc[:,column])) & (text_2 in list(df_aff_prop.loc[:,column])):            \n",
    "# There shouldn't be many of these so let's print them \n",
    "            print('\\n', text_1, '**', text_2)\n",
    "            counter += 1\n",
    "# Display proportion of these pairs that are in the same cluster\n",
    "counter / len(low_sim_table_84)"
   ]
  },
  {
   "cell_type": "markdown",
   "metadata": {},
   "source": [
    "#### Assigning the Test Texts to Existing Clusters\n",
    "We next use logistic regression to predict which of the 14 clusters each text in the test dataset should go into. The ad-hoc nature of this step should be kept in mind; if the original clustering analysis had been done on the entire dataset, our solution would have been different, likely with more than 14 clusters. "
   ]
  },
  {
   "cell_type": "markdown",
   "metadata": {},
   "source": [
    "### Logistic Regression"
   ]
  },
  {
   "cell_type": "code",
   "execution_count": 70,
   "metadata": {
    "collapsed": true
   },
   "outputs": [],
   "source": [
    "# Define a dataframe containing only the test data\n",
    "text_tfidf_df_21 = text_tfidf_df[84:]\n",
    "# Instantiate and fit the logistic regression model with no penalty\n",
    "lr = linear_model.LogisticRegression(C=1e9, random_state=4)\n",
    "lr.fit(text_tfidf_df_84, labels)\n",
    "# Predict clusters for these test data\n",
    "y_pred = lr.predict(text_tfidf_df_21)"
   ]
  },
  {
   "cell_type": "markdown",
   "metadata": {},
   "source": [
    "#### Silhouette Score\n",
    "Below is the silhouette score for the overall corpus, as computed after the test data have been allocated to existing clusters using logistic regression. \n",
    "The score has decreased only marginally, from 0.0072 to 0.0068. This confirms that this updated clustering configuration is almost as robust as the original solution."
   ]
  },
  {
   "cell_type": "code",
   "execution_count": 71,
   "metadata": {},
   "outputs": [
    {
     "data": {
      "text/plain": [
       "0.0068131042440937742"
      ]
     },
     "execution_count": 71,
     "metadata": {},
     "output_type": "execute_result"
    }
   ],
   "source": [
    "label_list = list(labels)\n",
    "y_pred_list = list(y_pred)\n",
    "# Define a list of cluster labels containing the full dataset\n",
    "# (not just the training or test data this time)\n",
    "labels_full = (label_list + y_pred_list)\n",
    "metrics.silhouette_score(text_tfidf_df, labels_full, metric='euclidean')"
   ]
  },
  {
   "cell_type": "markdown",
   "metadata": {},
   "source": [
    "#### How Have the Individual Scores Changed?\n",
    "Now that the test data have been included, we see below the original silhouette scores by cluster, alongside the new scores and the change in score. Although the overall silhouette score has decreased marginally, 8 of the original 14 clusters have actually had an increase in their silhouette scores. "
   ]
  },
  {
   "cell_type": "code",
   "execution_count": 72,
   "metadata": {},
   "outputs": [
    {
     "data": {
      "text/html": [
       "<div>\n",
       "<style>\n",
       "    .dataframe thead tr:only-child th {\n",
       "        text-align: right;\n",
       "    }\n",
       "\n",
       "    .dataframe thead th {\n",
       "        text-align: left;\n",
       "    }\n",
       "\n",
       "    .dataframe tbody tr th {\n",
       "        vertical-align: top;\n",
       "    }\n",
       "</style>\n",
       "<table border=\"1\" class=\"dataframe\">\n",
       "  <thead>\n",
       "    <tr style=\"text-align: right;\">\n",
       "      <th></th>\n",
       "      <th>cluster_label</th>\n",
       "      <th>silhouette_score_orig</th>\n",
       "      <th>silhouette_score_fin</th>\n",
       "      <th>delta</th>\n",
       "      <th>improvement?</th>\n",
       "    </tr>\n",
       "  </thead>\n",
       "  <tbody>\n",
       "    <tr>\n",
       "      <th>0</th>\n",
       "      <td>0</td>\n",
       "      <td>0.003692</td>\n",
       "      <td>0.006037</td>\n",
       "      <td>0.002345</td>\n",
       "      <td>Y</td>\n",
       "    </tr>\n",
       "    <tr>\n",
       "      <th>1</th>\n",
       "      <td>1</td>\n",
       "      <td>0.008674</td>\n",
       "      <td>0.008283</td>\n",
       "      <td>-0.000392</td>\n",
       "      <td>N</td>\n",
       "    </tr>\n",
       "    <tr>\n",
       "      <th>2</th>\n",
       "      <td>2</td>\n",
       "      <td>-0.002922</td>\n",
       "      <td>-0.000556</td>\n",
       "      <td>0.002366</td>\n",
       "      <td>Y</td>\n",
       "    </tr>\n",
       "    <tr>\n",
       "      <th>3</th>\n",
       "      <td>3</td>\n",
       "      <td>0.019791</td>\n",
       "      <td>0.020268</td>\n",
       "      <td>0.000477</td>\n",
       "      <td>Y</td>\n",
       "    </tr>\n",
       "    <tr>\n",
       "      <th>4</th>\n",
       "      <td>4</td>\n",
       "      <td>0.006453</td>\n",
       "      <td>0.004814</td>\n",
       "      <td>-0.001639</td>\n",
       "      <td>N</td>\n",
       "    </tr>\n",
       "    <tr>\n",
       "      <th>5</th>\n",
       "      <td>5</td>\n",
       "      <td>0.002733</td>\n",
       "      <td>0.005331</td>\n",
       "      <td>0.002598</td>\n",
       "      <td>Y</td>\n",
       "    </tr>\n",
       "    <tr>\n",
       "      <th>6</th>\n",
       "      <td>6</td>\n",
       "      <td>0.004642</td>\n",
       "      <td>0.002754</td>\n",
       "      <td>-0.001888</td>\n",
       "      <td>N</td>\n",
       "    </tr>\n",
       "    <tr>\n",
       "      <th>7</th>\n",
       "      <td>7</td>\n",
       "      <td>-0.003492</td>\n",
       "      <td>-0.004038</td>\n",
       "      <td>-0.000546</td>\n",
       "      <td>N</td>\n",
       "    </tr>\n",
       "    <tr>\n",
       "      <th>8</th>\n",
       "      <td>8</td>\n",
       "      <td>0.012407</td>\n",
       "      <td>0.014682</td>\n",
       "      <td>0.002275</td>\n",
       "      <td>Y</td>\n",
       "    </tr>\n",
       "    <tr>\n",
       "      <th>9</th>\n",
       "      <td>9</td>\n",
       "      <td>0.104248</td>\n",
       "      <td>0.104248</td>\n",
       "      <td>0.000000</td>\n",
       "      <td>N</td>\n",
       "    </tr>\n",
       "    <tr>\n",
       "      <th>10</th>\n",
       "      <td>10</td>\n",
       "      <td>0.001898</td>\n",
       "      <td>-0.000735</td>\n",
       "      <td>-0.002632</td>\n",
       "      <td>N</td>\n",
       "    </tr>\n",
       "    <tr>\n",
       "      <th>11</th>\n",
       "      <td>11</td>\n",
       "      <td>0.013946</td>\n",
       "      <td>0.014089</td>\n",
       "      <td>0.000142</td>\n",
       "      <td>Y</td>\n",
       "    </tr>\n",
       "    <tr>\n",
       "      <th>12</th>\n",
       "      <td>12</td>\n",
       "      <td>0.019198</td>\n",
       "      <td>0.019918</td>\n",
       "      <td>0.000721</td>\n",
       "      <td>Y</td>\n",
       "    </tr>\n",
       "    <tr>\n",
       "      <th>13</th>\n",
       "      <td>13</td>\n",
       "      <td>0.006646</td>\n",
       "      <td>0.006729</td>\n",
       "      <td>0.000083</td>\n",
       "      <td>Y</td>\n",
       "    </tr>\n",
       "  </tbody>\n",
       "</table>\n",
       "</div>"
      ],
      "text/plain": [
       "    cluster_label  silhouette_score_orig  silhouette_score_fin     delta  \\\n",
       "0               0               0.003692              0.006037  0.002345   \n",
       "1               1               0.008674              0.008283 -0.000392   \n",
       "2               2              -0.002922             -0.000556  0.002366   \n",
       "3               3               0.019791              0.020268  0.000477   \n",
       "4               4               0.006453              0.004814 -0.001639   \n",
       "5               5               0.002733              0.005331  0.002598   \n",
       "6               6               0.004642              0.002754 -0.001888   \n",
       "7               7              -0.003492             -0.004038 -0.000546   \n",
       "8               8               0.012407              0.014682  0.002275   \n",
       "9               9               0.104248              0.104248  0.000000   \n",
       "10             10               0.001898             -0.000735 -0.002632   \n",
       "11             11               0.013946              0.014089  0.000142   \n",
       "12             12               0.019198              0.019918  0.000721   \n",
       "13             13               0.006646              0.006729  0.000083   \n",
       "\n",
       "   improvement?  \n",
       "0             Y  \n",
       "1             N  \n",
       "2             Y  \n",
       "3             Y  \n",
       "4             N  \n",
       "5             Y  \n",
       "6             N  \n",
       "7             N  \n",
       "8             Y  \n",
       "9             N  \n",
       "10            N  \n",
       "11            Y  \n",
       "12            Y  \n",
       "13            Y  "
      ]
     },
     "metadata": {},
     "output_type": "display_data"
    }
   ],
   "source": [
    "# Silhouette coeffs for each individual datapoint\n",
    "indexed_sil_coeffs_f = list(metrics.silhouette_samples\n",
    "                            (text_tfidf_df, labels_full, metric='euclidean'))\n",
    "# Create empty dictionary\n",
    "dict_sil_f = {}\n",
    "# Create a dict key for each cluster label\n",
    "for value in pd.Series(labels_full).unique():\n",
    "    dict_sil_f[value] = []\n",
    "# Append individual sil. coeffs to the appropriate cluster list    \n",
    "for i in range(len(indexed_sil_coeffs_f)):\n",
    "    dict_sil_f[labels_full[i]].append(indexed_sil_coeffs_f[i])\n",
    "\n",
    "# Compute mean silhouette score by cluster\n",
    "for key in dict_sil_f:\n",
    "    dict_sil_f[key] = np.mean(dict_sil_f[key])\n",
    "# Create a list of mean sil. scores by cluster\n",
    "avg_sil_coeffs_f = [dict_sil_f[key] for key in dict_sil_f]\n",
    "# Create another list denoting whether score has improved or not\n",
    "improvement_list = ['Y' if avg_sil_coeffs_f[i] > avg_sil_coeffs[i] \n",
    "                    else 'N' for i in range(len(avg_sil_coeffs_f))]\n",
    "delta_list = [avg_sil_coeffs_f[i] - avg_sil_coeffs[i] for i in range(len(avg_sil_coeffs_f))]\n",
    "\n",
    "# Collate and display results\n",
    "final_table = pd.DataFrame({'cluster_label':np.arange(len(pd.Series(labels).unique())),\n",
    "             'silhouette_score_orig': avg_sil_coeffs,\n",
    "             'silhouette_score_fin': avg_sil_coeffs_f,\n",
    "             'delta': delta_list,\n",
    "             'improvement?':improvement_list})\n",
    "\n",
    "display(final_table.iloc[:,[0,4,3,1,2]])"
   ]
  },
  {
   "cell_type": "markdown",
   "metadata": {},
   "source": [
    "# Summary"
   ]
  },
  {
   "cell_type": "markdown",
   "metadata": {},
   "source": [
    "We can summarize the findings from this study as follows:\n",
    "-  It is possible to model and group a corpus of short stories using TF-IDF and the Affinity Propagation clustering model.\n",
    "-  This combination of techniques on the training set produced a moderate solution with some overlap between clusters, having an aggregate silhouette score close to zero.\n",
    "-  Using logistic regression to cluster the holdout data into the existing groups, proved successful, with a negligible reduction in the overall silhouette score. In fact, 8 of the 14 clusters experienced an improvement in their mean silhouette coefficient after the holdout data had been added. \n",
    "-  Ground Truth clustering models were not effective in clustering the data according to genre, collection or author.\n",
    "-  However, some success was found using a K-Means solution specifying 2 and to some extent 3 clusters, as evidenced by plots of the first two SVD-reduced components of these data on x-y axes. These solutions showed reasonable consistency between the training and test sets."
   ]
  },
  {
   "cell_type": "markdown",
   "metadata": {},
   "source": [
    "# Limitations"
   ]
  },
  {
   "cell_type": "markdown",
   "metadata": {},
   "source": [
    "The main limitations of this study were:\n",
    "-  Only the first 6000 characters of each text were used. Better solutions, or further insights, may have been obtained if a larger portion of each text had been considered. Also, it would have been nice to have used a larger corpus of texts. Conversely, it could be that using more texts, or a larger portion of each text does not produce a discernible gain in the quality of the results. That in itself would have been a noteworthy finding; but the level of detail in the analysis had to be tailored to the available time and CPU power.\n",
    "-  There was a slight lack of familiarity with the texts used. This may have led to some inaccuracies in classifying texts as 'misc', for example, where some may perhaps have fit better into another category. A better classification might possibly have led to a better genre-specific clustering outcome."
   ]
  },
  {
   "cell_type": "code",
   "execution_count": null,
   "metadata": {
    "collapsed": true
   },
   "outputs": [],
   "source": []
  }
 ],
 "metadata": {
  "kernelspec": {
   "display_name": "Python 3",
   "language": "python",
   "name": "python3"
  },
  "language_info": {
   "codemirror_mode": {
    "name": "ipython",
    "version": 3
   },
   "file_extension": ".py",
   "mimetype": "text/x-python",
   "name": "python",
   "nbconvert_exporter": "python",
   "pygments_lexer": "ipython3",
   "version": "3.6.2"
  }
 },
 "nbformat": 4,
 "nbformat_minor": 2
}
